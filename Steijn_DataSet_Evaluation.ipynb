{
 "cells": [
  {
   "cell_type": "markdown",
   "id": "88b9c029-5329-4211-93e5-4b0d9acbe085",
   "metadata": {},
   "source": [
    "# 🚀 Automated QA Testing for Steijn Assistant using PyRIT\n",
    "\n",
    "## 📌 Overview\n",
    "This notebook automates **QA testing** for the **Steijn Assistant** using the **PyRIT** framework. It sends predefined prompts to the assistant, evaluates its responses, and generates a report.\n",
    "\n",
    "## 🛠️ Steps in this Notebook\n",
    "- **🔧 Setup Configuration** - Define API endpoints, authentication, and request templates.\n",
    "- **📋 Load QA Dataset** - Define test questions and expected answers.\n",
    "- **⚙️ Initialize PyRIT** - Configure the testing environment.\n",
    "- **📡 Send Prompts & Evaluate Responses** - Run the main test loop.\n",
    "- **📊 Generate Report** - Save the results for analysis.\n",
    "\n",
    "## 📝 How to Use This Notebook\n",
    "1. **▶️ Run each cell in order** from top to bottom.\n",
    "2. **✏️ Modify the `qa_pairs` list** to test different questions and expected outcomes.\n",
    "3. **📂 Inspect the HTML report** at the end for detailed evaluation results.\n"
   ]
  },
  {
   "cell_type": "code",
   "execution_count": 1,
   "id": "af8689cf-bff8-4ffe-970f-0520e793925e",
   "metadata": {},
   "outputs": [],
   "source": [
    "import uuid\n",
    "import asyncio  # Needed for asynchronous operations\n",
    "from pathlib import Path\n",
    "import time\n",
    "import datetime\n",
    "from dotenv import load_dotenv\n",
    "import os\n",
    "\n",
    "# PyRIT Imports\n",
    "from pyrit.common import IN_MEMORY, initialize_pyrit\n",
    "from pyrit.prompt_target import OpenAIChatTarget, SteijnHTTPTarget\n",
    "from pyrit.score.evaluator import Evaluator\n",
    "from pyrit.orchestrator import SteijnPromptSendingOrchestrator\n",
    "from pyrit.common.text_helper import save_html_report, generate_single_turn_html_report\n",
    "from pyrit.prompt_target import SteijnResponseParser\n"
   ]
  },
  {
   "cell_type": "code",
   "execution_count": 2,
   "id": "bbca6386-0660-45f2-bc4f-8b97ea44c7c5",
   "metadata": {},
   "outputs": [],
   "source": [
    "# Use an in-memory database for a clean testing environment\n",
    "initialize_pyrit(memory_db_type=IN_MEMORY)\n"
   ]
  },
  {
   "cell_type": "code",
   "execution_count": 3,
   "id": "5ee11384-d777-422c-9ec3-197d60f7c4ad",
   "metadata": {},
   "outputs": [],
   "source": [
    "# Load environment variables\n",
    "load_dotenv()\n",
    "\n",
    "# Define Member ID and API credentials\n",
    "member_id = \"16611078\"\n",
    "url = os.getenv(\"STEIJN_NONPRD_ENDPOINT\") + member_id\n",
    "token = os.getenv(\"STEIJN_NONPRD_TOKEN\")\n",
    "\n",
    "# Define a raw HTTP POST request template with headers and a placeholder for the prompt\n",
    "start_chat_request_raw = f\"\"\"\n",
    "    POST {url}\n",
    "    Content-Type: application/json\n",
    "    X-Authorization: {token}\n",
    "    Accept: text/event-stream\n",
    "    x-rate-limiter-enabled: false\n",
    "    x-message-length-validation-enabled: false\n",
    "\n",
    "    {{\n",
    "        \"data\": \"{{PROMPT}}\"\n",
    "    }}\n",
    "\"\"\"\n"
   ]
  },
  {
   "cell_type": "code",
   "execution_count": 4,
   "id": "52715861-eb56-4cb6-8297-16befdbbce3c",
   "metadata": {},
   "outputs": [],
   "source": [
    "# Each QA pair contains a question and its expected answer suggestion\n",
    "qa_pairs = [\n",
    "    {\"question\": \"Ik heb zin in fruit\", \"expected_outcomes\": \"TEXT: Vraag om meer details\"},\n",
    "    {\"question\": \"Appel\", \"expected_outcomes\": \"PRODUCT_LANE: [Apples]\"},\n",
    "    {\"question\": \"Verkopen jullie gehakt?\", \"expected_outcomes\": \"PRODUCT_LANE: [Gehakt]\"},\n",
    "    {\"question\": \"Wat zijn vegetarische ontbijt producten\", \"expected_outcomes\": \"TEXT: Suggesties voor veganistische ontbijtproducten\"},\n",
    "    {\"question\": \"Wat kost een kilo kipfilet?\", \"expected_outcomes\": \"PRODUCT_LANE: [Kipfilet]\"},\n",
    "]\n"
   ]
  },
  {
   "cell_type": "code",
   "execution_count": 5,
   "id": "40044d8c-e475-4967-88ea-cf2ebd74ab6f",
   "metadata": {},
   "outputs": [],
   "source": [
    "# Create an HTTP target that sends prompts using the defined request template.\n",
    "http_prompt_target = SteijnHTTPTarget(\n",
    "    http_request=start_chat_request_raw,\n",
    "    prompt_regex_string=\"{PROMPT}\",\n",
    "    timeout=60.0,\n",
    "    callback_function=SteijnResponseParser.parse_response\n",
    ")\n",
    "\n",
    "# Create an evaluator that uses a YAML configuration for scoring suggestions.\n",
    "scorer = Evaluator(\n",
    "    chat_target=OpenAIChatTarget(),\n",
    "    evaluator_yaml_path=Path(\"assets/AH_Evaluators/relevance_evaluator.yaml\"),\n",
    "    scorer_type=\"float_scale\"\n",
    ")\n",
    "\n",
    "# Create the orchestrator for sending prompts and evaluating responses.\n",
    "orchestrator = SteijnPromptSendingOrchestrator(\n",
    "    objective_target=http_prompt_target,\n",
    "    scorers=[scorer]\n",
    ")\n"
   ]
  },
  {
   "cell_type": "code",
   "execution_count": 6,
   "id": "cd1a35e1-aec9-474e-8712-4c361c25365c",
   "metadata": {},
   "outputs": [],
   "source": [
    "async def main():\n",
    "    # Extract the list of questions and expected outcomes from qa_pairs.\n",
    "    questions = [pair[\"question\"] for pair in qa_pairs]\n",
    "    expected_outcomes = [pair[\"expected_outcomes\"] for pair in qa_pairs]\n",
    "    \n",
    "    # Start the timer before sending prompts.\n",
    "    start_time = time.time()\n",
    "    \n",
    "    # Send the list of prompts asynchronously.\n",
    "    await orchestrator.send_prompts_async(prompt_list=questions, expected_output_list=expected_outcomes)\n",
    "    \n",
    "    # Retrieve the chat results from the orchestrator.\n",
    "    results = orchestrator.get_chat_results()\n",
    "    \n",
    "    # Calculate the total execution time.\n",
    "    execution_time = time.time() - start_time\n",
    "\n",
    "    # Generate and save the report\n",
    "    await generate_report(results, execution_time)\n"
   ]
  },
  {
   "cell_type": "code",
   "execution_count": 7,
   "id": "2b00abbd-bc60-41c3-bd36-db9d52dfbcdf",
   "metadata": {},
   "outputs": [],
   "source": [
    "async def generate_report(results, execution_time):\n",
    "    # Define the report directory path and create it if it doesn't exist.\n",
    "    report_dir = Path(\"tests/E2E/reports/DataSet\").resolve()\n",
    "    report_dir.mkdir(parents=True, exist_ok=True)\n",
    "    \n",
    "    # Generate and save the HTML report.\n",
    "    save_html_report(\n",
    "        results=results,\n",
    "        directory=str(report_dir),\n",
    "        report_generator=generate_single_turn_html_report,\n",
    "        is_chat_evaluation=False,\n",
    "        threshold=0.7,\n",
    "        file_name=\"steijn_dataset\",\n",
    "        description=\"This report presents a comprehensive evaluation of the dataset by comparing each input with its corresponding actual and expected outputs, along with a score that quantifies the degree of alignment between the actual and expected responses.\",\n",
    "        execution_time=execution_time\n",
    "    )\n"
   ]
  },
  {
   "cell_type": "code",
   "execution_count": 8,
   "id": "4c5ff1ce-5f71-421d-94e5-570ad8b5de16",
   "metadata": {},
   "outputs": [
    {
     "name": "stdout",
     "output_type": "stream",
     "text": [
      "✅ Report saved at: /Users/denizdalkilic/Documents/Forks/PyRIT/tests/E2E/reports/DataSet/steijn_dataset_20250328_151113.html\n"
     ]
    }
   ],
   "source": [
    "await main()\n"
   ]
  }
 ],
 "metadata": {
  "kernelspec": {
   "display_name": "Python 3 (ipykernel)",
   "language": "python",
   "name": "python3"
  },
  "language_info": {
   "codemirror_mode": {
    "name": "ipython",
    "version": 3
   },
   "file_extension": ".py",
   "mimetype": "text/x-python",
   "name": "python",
   "nbconvert_exporter": "python",
   "pygments_lexer": "ipython3",
   "version": "3.11.11"
  }
 },
 "nbformat": 4,
 "nbformat_minor": 5
}
