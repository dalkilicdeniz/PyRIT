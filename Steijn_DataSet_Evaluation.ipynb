{
 "cells": [
  {
   "cell_type": "markdown",
   "id": "88b9c029-5329-4211-93e5-4b0d9acbe085",
   "metadata": {},
   "source": [
    "# 🚀 Automated QA Testing for Steijn Assistant using PyRIT\n",
    "\n",
    "## 📌 Overview\n",
    "This notebook automates **QA testing** for the **Steijn Assistant** using the **PyRIT** framework. It sends predefined prompts to the assistant, evaluates its responses, and generates a report.\n",
    "\n",
    "## 🛠️ Steps in this Notebook\n",
    "- **🔧 Setup Configuration** - Define API endpoints, authentication, and request templates.\n",
    "- **📋 Load QA Dataset** - Define test questions and expected answers.\n",
    "- **⚙️ Initialize PyRIT** - Configure the testing environment.\n",
    "- **📡 Send Prompts & Evaluate Responses** - Run the main test loop.\n",
    "- **📊 Generate Report** - Save the results for analysis.\n",
    "\n",
    "## 📝 How to Use This Notebook\n",
    "1. **▶️ Run each cell in order** from top to bottom.\n",
    "2. **✏️ Modify the `qa_pairs` list** to test different questions and expected outcomes.\n",
    "3. **📂 Inspect the HTML report** at the end for detailed evaluation results.\n"
   ]
  },
  {
   "cell_type": "code",
   "execution_count": 2,
   "id": "af8689cf-bff8-4ffe-970f-0520e793925e",
   "metadata": {
    "lines_to_next_cell": 2
   },
   "outputs": [],
   "source": [
    "import uuid\n",
    "import asyncio  # Needed for asynchronous operations\n",
    "from pathlib import Path\n",
    "import time\n",
    "from datetime import datetime\n",
    "from dotenv import load_dotenv\n",
    "import os\n",
    "\n",
    "# PyRIT Imports\n",
    "from pyrit.common import IN_MEMORY, initialize_pyrit\n",
    "from pyrit.prompt_target import OpenAIChatTarget, SteijnHTTPTarget\n",
    "from pyrit.score.evaluator import Evaluator\n",
    "from pyrit.orchestrator import SteijnPromptSendingOrchestrator\n",
    "from pyrit.common.text_helper import generate_dataset_report\n",
    "from pyrit.prompt_target import SteijnResponseParser"
   ]
  },
  {
   "cell_type": "code",
   "execution_count": 3,
   "id": "bbca6386-0660-45f2-bc4f-8b97ea44c7c5",
   "metadata": {
    "lines_to_next_cell": 2
   },
   "outputs": [],
   "source": [
    "# Use an in-memory database for a clean testing environment\n",
    "initialize_pyrit(memory_db_type=IN_MEMORY)"
   ]
  },
  {
   "cell_type": "code",
   "execution_count": 4,
   "id": "5ee11384-d777-422c-9ec3-197d60f7c4ad",
   "metadata": {},
   "outputs": [
    {
     "name": "stdout",
     "output_type": "stream",
     "text": [
      "https://ah-assistant-service-tst.kaas.nonprd.k8s.ah.technology/sandbox/chat/15274816\n"
     ]
    }
   ],
   "source": [
    "# Load environment variables\n",
    "load_dotenv()\n",
    "\n",
    "# Define Member ID and API credentials\n",
    "member_id = os.getenv(\"STEIJN_NONPRD_MEMBER_ID\")\n",
    "url = os.getenv(\"STEIJN_ENDPOINT\").rstrip(\"/\") + \"/\" + member_id\n",
    "token = os.getenv(\"STEIJN_NONPRD_TOKEN\")\n",
    "\n",
    "# Define a raw HTTP POST request template with headers and a placeholder for the prompt\n",
    "start_chat_request_raw = f\"\"\"\n",
    "    POST {url}\n",
    "    Content-Type: application/json\n",
    "    X-Authorization: {token}\n",
    "    Accept: text/event-stream\n",
    "    x-rate-limiter-enabled: false\n",
    "    x-message-length-validation-enabled: false\n",
    "    x-user-message-evaluator-enabled: false\n",
    "\n",
    "{{\n",
    "    \"data\": \"{{PROMPT}}\"\n",
    "}}\n",
    "\"\"\""
   ]
  },
  {
   "cell_type": "code",
   "execution_count": 5,
   "id": "7a0c12b1",
   "metadata": {},
   "outputs": [
    {
     "name": "stdout",
     "output_type": "stream",
     "text": [
      "Dataset: regression → 105 cases loaded\n",
      "Evaluator: general\n"
     ]
    }
   ],
   "source": [
    "from pyrit.loaders.test_data_loader import load_test_data\n",
    "\n",
    "# === Dataset Configuration ===\n",
    "DATASET_PATH = \"tests/data/dataset\"\n",
    "available_datasets = {\n",
    "    \"general\": \"qa_general_dataset.yaml\",\n",
    "    \"products\": \"qa_products_dataset.yaml\",\n",
    "    \"non_food\": \"qa_non_food_products_dataset.yaml\",\n",
    "    \"recipes\": \"qa_recipes_dataset.yaml\",\n",
    "    \"health\": \"qa_health_dataset.yaml\",\n",
    "    \"conversational\": \"qa_conversational_dataset.yaml\",\n",
    "    \"regression\": \"qa_regression_dataset.yaml\"\n",
    "}\n",
    "\n",
    "# === Evaluator Configuration ===\n",
    "available_evaluators = {\n",
    "    \"general\": \"assets/AH_Evaluators/ah_assistant/qa_general.yaml\",\n",
    "    \"products\": \"assets/AH_Evaluators/ah_assistant/qa_products.yaml\",\n",
    "    \"recipes\": \"assets/AH_Evaluators/ah_assistant/qa_recipes.yaml\",\n",
    "    \"relevance\": \"assets/AH_Evaluators/relevance_evaluator.yaml\",\n",
    "}\n",
    "\n",
    "# Select which dataset and evaluator you want to test\n",
    "selected_dataset = \"regression\"\n",
    "selected_evaluator = \"general\"\n",
    "\n",
    "# Load the dataset\n",
    "current_dataset = available_datasets[selected_dataset]\n",
    "qa_pairs = load_test_data(f\"{DATASET_PATH}/{current_dataset}\")\n",
    "\n",
    "# Set evaluator path\n",
    "evaluator_path = available_evaluators[selected_evaluator]\n",
    "\n",
    "# Preview laodeded data\n",
    "print(f\"Dataset: {selected_dataset} → {len(qa_pairs)} cases loaded\")\n",
    "print(f\"Evaluator: {selected_evaluator}\")"
   ]
  },
  {
   "cell_type": "code",
   "execution_count": 6,
   "id": "40044d8c-e475-4967-88ea-cf2ebd74ab6f",
   "metadata": {},
   "outputs": [],
   "source": [
    "# Create an HTTP target that sends prompts using the defined request template.\n",
    "http_prompt_target = SteijnHTTPTarget(\n",
    "    http_request=start_chat_request_raw,\n",
    "    prompt_regex_string=\"{PROMPT}\",\n",
    "    timeout=60.0,\n",
    "    callback_function=SteijnResponseParser.parse_response\n",
    ")\n",
    "\n",
    "# Create an evaluator that uses a YAML configuration for scoring suggestions.\n",
    "scorer = Evaluator(\n",
    "    chat_target=OpenAIChatTarget(),\n",
    "    evaluator_yaml_path=Path(evaluator_path),\n",
    "    scorer_type=\"float_scale\"\n",
    ")\n",
    "\n",
    "# Create the orchestrator for sending prompts and evaluating responses.\n",
    "orchestrator = SteijnPromptSendingOrchestrator(\n",
    "    objective_target=http_prompt_target,\n",
    "    scorers=[scorer],\n",
    "    batch_size=3\n",
    ")\n"
   ]
  },
  {
   "cell_type": "code",
   "execution_count": 7,
   "id": "2b00abbd-bc60-41c3-bd36-db9d52dfbcdf",
   "metadata": {},
   "outputs": [],
   "source": [
    "async def generate_report(results, execution_time):\n",
    "    # Define the report directory path and create it if it doesn't exist.\n",
    "    report_dir = Path(\"tests/E2E/reports/DataSet\").resolve()\n",
    "    report_dir.mkdir(parents=True, exist_ok=True)\n",
    "\n",
    "    # Create a timestamp string\n",
    "    timestamp = datetime.now().strftime(\"%Y%m%d_%H%M%S\")\n",
    "\n",
    "    # Construct the filename with timestamp after the extension\n",
    "    filename = f\"{selected_dataset}_dataset_report_{timestamp}.html\"\n",
    "    \n",
    "    generate_dataset_report(\n",
    "        results=results,\n",
    "        save_path=report_dir / filename,\n",
    "        description=\"Mixed evaluation of single-turn and multi-turn prompt responses.\",\n",
    "        execution_time=execution_time,\n",
    "    )\n",
    "\n"
   ]
  },
  {
   "cell_type": "code",
   "execution_count": 8,
   "id": "cd1a35e1-aec9-474e-8712-4c361c25365c",
   "metadata": {},
   "outputs": [],
   "source": [
    "async def main():\n",
    "    # Start the timer before sending prompts.\n",
    "    start_time = time.time()\n",
    "    \n",
    "    # Send the list of prompts asynchronously.\n",
    "    await orchestrator.send_qa_pairs_async(qa_pairs)  \n",
    "    \n",
    "    results = orchestrator.get_all_chat_results()  # Or use your combined method.\n",
    "\n",
    "    # Calculate the total execution time.\n",
    "    execution_time = time.time() - start_time\n",
    "    \n",
    "    await generate_report(results, execution_time)"
   ]
  },
  {
   "cell_type": "code",
   "execution_count": 9,
   "id": "4c5ff1ce-5f71-421d-94e5-570ad8b5de16",
   "metadata": {
    "lines_to_next_cell": 2
   },
   "outputs": [
    {
     "name": "stdout",
     "output_type": "stream",
     "text": [
      "\n",
      "Executing test case: 1\n",
      "Question: wat is gezond eten?\n",
      "Question: Een roerbak schotel met veel groenten\n"
     ]
    },
    {
     "ename": "CancelledError",
     "evalue": "",
     "output_type": "error",
     "traceback": [
      "\u001b[31m---------------------------------------------------------------------------\u001b[39m",
      "\u001b[31mCancelledError\u001b[39m                            Traceback (most recent call last)",
      "\u001b[36mCell\u001b[39m\u001b[36m \u001b[39m\u001b[32mIn[9]\u001b[39m\u001b[32m, line 1\u001b[39m\n\u001b[32m----> \u001b[39m\u001b[32m1\u001b[39m \u001b[38;5;28;01mawait\u001b[39;00m main()\n",
      "\u001b[36mCell\u001b[39m\u001b[36m \u001b[39m\u001b[32mIn[8]\u001b[39m\u001b[32m, line 6\u001b[39m, in \u001b[36mmain\u001b[39m\u001b[34m()\u001b[39m\n\u001b[32m      3\u001b[39m start_time = time.time()\n\u001b[32m      5\u001b[39m \u001b[38;5;66;03m# Send the list of prompts asynchronously.\u001b[39;00m\n\u001b[32m----> \u001b[39m\u001b[32m6\u001b[39m \u001b[38;5;28;01mawait\u001b[39;00m orchestrator.send_qa_pairs_async(qa_pairs)  \n\u001b[32m      8\u001b[39m results = orchestrator.get_all_chat_results()  \u001b[38;5;66;03m# Or use your combined method.\u001b[39;00m\n\u001b[32m     10\u001b[39m \u001b[38;5;66;03m# Calculate the total execution time.\u001b[39;00m\n",
      "\u001b[36mFile \u001b[39m\u001b[32m~/Coding/Werk/PyRIT/pyrit/orchestrator/single_turn/steijn/steijn_prompt_sending_orchestrator.py:167\u001b[39m, in \u001b[36mSteijnPromptSendingOrchestrator.send_qa_pairs_async\u001b[39m\u001b[34m(self, qa_pairs)\u001b[39m\n\u001b[32m    157\u001b[39m expected_output = turn[\u001b[33m\"\u001b[39m\u001b[33mexpected_outcome\u001b[39m\u001b[33m\"\u001b[39m]\n\u001b[32m    158\u001b[39m request = \u001b[38;5;28mself\u001b[39m._create_normalizer_request(\n\u001b[32m    159\u001b[39m     prompt_text=prompt_text,\n\u001b[32m    160\u001b[39m     expected_output=expected_output,\n\u001b[32m   (...)\u001b[39m\u001b[32m    164\u001b[39m     conversation_id=conversation_id,\n\u001b[32m    165\u001b[39m )\n\u001b[32m--> \u001b[39m\u001b[32m167\u001b[39m results = \u001b[38;5;28;01mawait\u001b[39;00m \u001b[38;5;28mself\u001b[39m.send_normalizer_requests_async(prompt_request_list=[request])\n\u001b[32m    168\u001b[39m all_responses.extend(results)\n\u001b[32m    169\u001b[39m flattened = PromptRequestResponse.flatten_to_prompt_request_pieces(results)\n",
      "\u001b[36mFile \u001b[39m\u001b[32m~/Coding/Werk/PyRIT/pyrit/orchestrator/single_turn/steijn/steijn_prompt_sending_orchestrator.py:108\u001b[39m, in \u001b[36mSteijnPromptSendingOrchestrator.send_normalizer_requests_async\u001b[39m\u001b[34m(self, prompt_request_list, memory_labels)\u001b[39m\n\u001b[32m    105\u001b[39m     \u001b[38;5;28;01mif\u001b[39;00m prompt.seed_prompt_group.prompts[\u001b[32m0\u001b[39m].expected_output:\n\u001b[32m    106\u001b[39m         expected_output_list.append(prompt.seed_prompt_group.prompts[\u001b[32m0\u001b[39m].expected_output)\n\u001b[32m--> \u001b[39m\u001b[32m108\u001b[39m responses: List[PromptRequestResponse] = \u001b[38;5;28;01mawait\u001b[39;00m \u001b[38;5;28mself\u001b[39m._prompt_normalizer.send_prompt_batch_to_target_async(\n\u001b[32m    109\u001b[39m     requests=prompt_request_list,\n\u001b[32m    110\u001b[39m     target=\u001b[38;5;28mself\u001b[39m._objective_target,\n\u001b[32m    111\u001b[39m     labels=combine_dict(existing_dict=\u001b[38;5;28mself\u001b[39m._global_memory_labels, new_dict=memory_labels),\n\u001b[32m    112\u001b[39m     orchestrator_identifier=\u001b[38;5;28mself\u001b[39m.get_identifier(),\n\u001b[32m    113\u001b[39m     batch_size=\u001b[38;5;28mself\u001b[39m._batch_size,\n\u001b[32m    114\u001b[39m )\n\u001b[32m    116\u001b[39m response_pieces = []\n\u001b[32m    117\u001b[39m \u001b[38;5;28;01mif\u001b[39;00m \u001b[38;5;28mself\u001b[39m._scorers \u001b[38;5;129;01mand\u001b[39;00m responses:\n",
      "\u001b[36mFile \u001b[39m\u001b[32m~/Coding/Werk/PyRIT/pyrit/prompt_normalizer/prompt_normalizer.py:182\u001b[39m, in \u001b[36mPromptNormalizer.send_prompt_batch_to_target_async\u001b[39m\u001b[34m(self, requests, target, labels, orchestrator_identifier, batch_size)\u001b[39m\n\u001b[32m    168\u001b[39m batch_items: List[List[Any]] = [\n\u001b[32m    169\u001b[39m     [request.seed_prompt_group \u001b[38;5;28;01mfor\u001b[39;00m request \u001b[38;5;129;01min\u001b[39;00m requests],\n\u001b[32m    170\u001b[39m     [request.request_converter_configurations \u001b[38;5;28;01mfor\u001b[39;00m request \u001b[38;5;129;01min\u001b[39;00m requests],\n\u001b[32m    171\u001b[39m     [request.response_converter_configurations \u001b[38;5;28;01mfor\u001b[39;00m request \u001b[38;5;129;01min\u001b[39;00m requests],\n\u001b[32m    172\u001b[39m     [request.conversation_id \u001b[38;5;28;01mfor\u001b[39;00m request \u001b[38;5;129;01min\u001b[39;00m requests],\n\u001b[32m    173\u001b[39m ]\n\u001b[32m    175\u001b[39m batch_item_keys = [\n\u001b[32m    176\u001b[39m     \u001b[33m\"\u001b[39m\u001b[33mseed_prompt_group\u001b[39m\u001b[33m\"\u001b[39m,\n\u001b[32m    177\u001b[39m     \u001b[33m\"\u001b[39m\u001b[33mrequest_converter_configurations\u001b[39m\u001b[33m\"\u001b[39m,\n\u001b[32m    178\u001b[39m     \u001b[33m\"\u001b[39m\u001b[33mresponse_converter_configurations\u001b[39m\u001b[33m\"\u001b[39m,\n\u001b[32m    179\u001b[39m     \u001b[33m\"\u001b[39m\u001b[33mconversation_id\u001b[39m\u001b[33m\"\u001b[39m,\n\u001b[32m    180\u001b[39m ]\n\u001b[32m--> \u001b[39m\u001b[32m182\u001b[39m responses = \u001b[38;5;28;01mawait\u001b[39;00m batch_task_async(\n\u001b[32m    183\u001b[39m     prompt_target=target,\n\u001b[32m    184\u001b[39m     batch_size=batch_size,\n\u001b[32m    185\u001b[39m     items_to_batch=batch_items,\n\u001b[32m    186\u001b[39m     task_func=\u001b[38;5;28mself\u001b[39m.send_prompt_async,\n\u001b[32m    187\u001b[39m     task_arguments=batch_item_keys,\n\u001b[32m    188\u001b[39m     target=target,\n\u001b[32m    189\u001b[39m     labels=labels,\n\u001b[32m    190\u001b[39m     orchestrator_identifier=orchestrator_identifier,\n\u001b[32m    191\u001b[39m )\n\u001b[32m    193\u001b[39m \u001b[38;5;66;03m# send_prompt_async can return None if the prompt is skipped\u001b[39;00m\n\u001b[32m    194\u001b[39m \u001b[38;5;28;01mreturn\u001b[39;00m [response \u001b[38;5;28;01mfor\u001b[39;00m response \u001b[38;5;129;01min\u001b[39;00m responses \u001b[38;5;28;01mif\u001b[39;00m response \u001b[38;5;129;01mis\u001b[39;00m \u001b[38;5;129;01mnot\u001b[39;00m \u001b[38;5;28;01mNone\u001b[39;00m]\n",
      "\u001b[36mFile \u001b[39m\u001b[32m~/Coding/Werk/PyRIT/pyrit/prompt_target/batch_helper.py:87\u001b[39m, in \u001b[36mbatch_task_async\u001b[39m\u001b[34m(prompt_target, batch_size, items_to_batch, task_func, task_arguments, **task_kwargs)\u001b[39m\n\u001b[32m     84\u001b[39m             task_kwargs[task_argument] = task_args[arg_index][batch_index]\n\u001b[32m     85\u001b[39m         tasks.append(task_func(**task_kwargs))\n\u001b[32m---> \u001b[39m\u001b[32m87\u001b[39m     batch_results = \u001b[38;5;28;01mawait\u001b[39;00m asyncio.gather(*tasks)\n\u001b[32m     88\u001b[39m     responses.extend(batch_results)\n\u001b[32m     90\u001b[39m \u001b[38;5;28;01mreturn\u001b[39;00m responses\n",
      "\u001b[36mFile \u001b[39m\u001b[32m~/Coding/Werk/PyRIT/pyrit/prompt_normalizer/prompt_normalizer.py:98\u001b[39m, in \u001b[36mPromptNormalizer.send_prompt_async\u001b[39m\u001b[34m(self, seed_prompt_group, target, conversation_id, request_converter_configurations, response_converter_configurations, sequence, labels, orchestrator_identifier)\u001b[39m\n\u001b[32m     96\u001b[39m \u001b[38;5;28;01mfor\u001b[39;00m attempt \u001b[38;5;129;01min\u001b[39;00m \u001b[38;5;28mrange\u001b[39m(max_retries + \u001b[32m1\u001b[39m):\n\u001b[32m     97\u001b[39m     \u001b[38;5;28;01mtry\u001b[39;00m:\n\u001b[32m---> \u001b[39m\u001b[32m98\u001b[39m         response = \u001b[38;5;28;01mawait\u001b[39;00m target.send_prompt_async(prompt_request=request)\n\u001b[32m     99\u001b[39m         \u001b[38;5;28mself\u001b[39m._memory.add_request_response_to_memory(request=request)\n\u001b[32m    100\u001b[39m         \u001b[38;5;28;01mbreak\u001b[39;00m  \u001b[38;5;66;03m# Exit the loop if the operation is successful\u001b[39;00m\n",
      "\u001b[36mFile \u001b[39m\u001b[32m~/Coding/Werk/PyRIT/pyrit/prompt_target/common/utils.py:26\u001b[39m, in \u001b[36mlimit_requests_per_minute.<locals>.set_max_rpm\u001b[39m\u001b[34m(*args, **kwargs)\u001b[39m\n\u001b[32m     23\u001b[39m \u001b[38;5;28;01mif\u001b[39;00m rpm \u001b[38;5;129;01mand\u001b[39;00m rpm > \u001b[32m0\u001b[39m:\n\u001b[32m     24\u001b[39m     \u001b[38;5;28;01mawait\u001b[39;00m asyncio.sleep(\u001b[32m60\u001b[39m / rpm)\n\u001b[32m---> \u001b[39m\u001b[32m26\u001b[39m \u001b[38;5;28;01mreturn\u001b[39;00m \u001b[38;5;28;01mawait\u001b[39;00m func(*args, **kwargs)\n",
      "\u001b[36mFile \u001b[39m\u001b[32m~/Coding/Werk/PyRIT/pyrit/prompt_target/http_target/steijn/http_target.py:99\u001b[39m, in \u001b[36mSteijnHTTPTarget.send_prompt_async\u001b[39m\u001b[34m(self, prompt_request)\u001b[39m\n\u001b[32m     91\u001b[39m             response = \u001b[38;5;28;01mawait\u001b[39;00m client.request(\n\u001b[32m     92\u001b[39m                 method=http_method,\n\u001b[32m     93\u001b[39m                 url=url,\n\u001b[32m   (...)\u001b[39m\u001b[32m     96\u001b[39m                 follow_redirects=\u001b[38;5;28;01mTrue\u001b[39;00m,\n\u001b[32m     97\u001b[39m             )\n\u001b[32m     98\u001b[39m         \u001b[38;5;28;01mcase\u001b[39;00m \u001b[38;5;28mstr\u001b[39m():\n\u001b[32m---> \u001b[39m\u001b[32m99\u001b[39m             response = \u001b[38;5;28;01mawait\u001b[39;00m client.request(\n\u001b[32m    100\u001b[39m                 method=http_method,\n\u001b[32m    101\u001b[39m                 url=url,\n\u001b[32m    102\u001b[39m                 headers=header_dict,\n\u001b[32m    103\u001b[39m                 content=http_body,\n\u001b[32m    104\u001b[39m                 follow_redirects=\u001b[38;5;28;01mTrue\u001b[39;00m,\n\u001b[32m    105\u001b[39m             )\n\u001b[32m    107\u001b[39m response_content = \u001b[33m\"\u001b[39m\u001b[33m\"\u001b[39m\n\u001b[32m    109\u001b[39m \u001b[38;5;66;03m# Retrieve the thread ID from the response, so we can send follow-up messages\u001b[39;00m\n",
      "\u001b[36mFile \u001b[39m\u001b[32m/opt/anaconda3/envs/pyrit-dev/lib/python3.11/site-packages/httpx/_client.py:1540\u001b[39m, in \u001b[36mAsyncClient.request\u001b[39m\u001b[34m(self, method, url, content, data, files, json, params, headers, cookies, auth, follow_redirects, timeout, extensions)\u001b[39m\n\u001b[32m   1525\u001b[39m     warnings.warn(message, \u001b[38;5;167;01mDeprecationWarning\u001b[39;00m, stacklevel=\u001b[32m2\u001b[39m)\n\u001b[32m   1527\u001b[39m request = \u001b[38;5;28mself\u001b[39m.build_request(\n\u001b[32m   1528\u001b[39m     method=method,\n\u001b[32m   1529\u001b[39m     url=url,\n\u001b[32m   (...)\u001b[39m\u001b[32m   1538\u001b[39m     extensions=extensions,\n\u001b[32m   1539\u001b[39m )\n\u001b[32m-> \u001b[39m\u001b[32m1540\u001b[39m \u001b[38;5;28;01mreturn\u001b[39;00m \u001b[38;5;28;01mawait\u001b[39;00m \u001b[38;5;28mself\u001b[39m.send(request, auth=auth, follow_redirects=follow_redirects)\n",
      "\u001b[36mFile \u001b[39m\u001b[32m/opt/anaconda3/envs/pyrit-dev/lib/python3.11/site-packages/httpx/_client.py:1629\u001b[39m, in \u001b[36mAsyncClient.send\u001b[39m\u001b[34m(self, request, stream, auth, follow_redirects)\u001b[39m\n\u001b[32m   1625\u001b[39m \u001b[38;5;28mself\u001b[39m._set_timeout(request)\n\u001b[32m   1627\u001b[39m auth = \u001b[38;5;28mself\u001b[39m._build_request_auth(request, auth)\n\u001b[32m-> \u001b[39m\u001b[32m1629\u001b[39m response = \u001b[38;5;28;01mawait\u001b[39;00m \u001b[38;5;28mself\u001b[39m._send_handling_auth(\n\u001b[32m   1630\u001b[39m     request,\n\u001b[32m   1631\u001b[39m     auth=auth,\n\u001b[32m   1632\u001b[39m     follow_redirects=follow_redirects,\n\u001b[32m   1633\u001b[39m     history=[],\n\u001b[32m   1634\u001b[39m )\n\u001b[32m   1635\u001b[39m \u001b[38;5;28;01mtry\u001b[39;00m:\n\u001b[32m   1636\u001b[39m     \u001b[38;5;28;01mif\u001b[39;00m \u001b[38;5;129;01mnot\u001b[39;00m stream:\n",
      "\u001b[36mFile \u001b[39m\u001b[32m/opt/anaconda3/envs/pyrit-dev/lib/python3.11/site-packages/httpx/_client.py:1657\u001b[39m, in \u001b[36mAsyncClient._send_handling_auth\u001b[39m\u001b[34m(self, request, auth, follow_redirects, history)\u001b[39m\n\u001b[32m   1654\u001b[39m request = \u001b[38;5;28;01mawait\u001b[39;00m auth_flow.\u001b[34m__anext__\u001b[39m()\n\u001b[32m   1656\u001b[39m \u001b[38;5;28;01mwhile\u001b[39;00m \u001b[38;5;28;01mTrue\u001b[39;00m:\n\u001b[32m-> \u001b[39m\u001b[32m1657\u001b[39m     response = \u001b[38;5;28;01mawait\u001b[39;00m \u001b[38;5;28mself\u001b[39m._send_handling_redirects(\n\u001b[32m   1658\u001b[39m         request,\n\u001b[32m   1659\u001b[39m         follow_redirects=follow_redirects,\n\u001b[32m   1660\u001b[39m         history=history,\n\u001b[32m   1661\u001b[39m     )\n\u001b[32m   1662\u001b[39m     \u001b[38;5;28;01mtry\u001b[39;00m:\n\u001b[32m   1663\u001b[39m         \u001b[38;5;28;01mtry\u001b[39;00m:\n",
      "\u001b[36mFile \u001b[39m\u001b[32m/opt/anaconda3/envs/pyrit-dev/lib/python3.11/site-packages/httpx/_client.py:1694\u001b[39m, in \u001b[36mAsyncClient._send_handling_redirects\u001b[39m\u001b[34m(self, request, follow_redirects, history)\u001b[39m\n\u001b[32m   1691\u001b[39m \u001b[38;5;28;01mfor\u001b[39;00m hook \u001b[38;5;129;01min\u001b[39;00m \u001b[38;5;28mself\u001b[39m._event_hooks[\u001b[33m\"\u001b[39m\u001b[33mrequest\u001b[39m\u001b[33m\"\u001b[39m]:\n\u001b[32m   1692\u001b[39m     \u001b[38;5;28;01mawait\u001b[39;00m hook(request)\n\u001b[32m-> \u001b[39m\u001b[32m1694\u001b[39m response = \u001b[38;5;28;01mawait\u001b[39;00m \u001b[38;5;28mself\u001b[39m._send_single_request(request)\n\u001b[32m   1695\u001b[39m \u001b[38;5;28;01mtry\u001b[39;00m:\n\u001b[32m   1696\u001b[39m     \u001b[38;5;28;01mfor\u001b[39;00m hook \u001b[38;5;129;01min\u001b[39;00m \u001b[38;5;28mself\u001b[39m._event_hooks[\u001b[33m\"\u001b[39m\u001b[33mresponse\u001b[39m\u001b[33m\"\u001b[39m]:\n",
      "\u001b[36mFile \u001b[39m\u001b[32m/opt/anaconda3/envs/pyrit-dev/lib/python3.11/site-packages/httpx/_client.py:1730\u001b[39m, in \u001b[36mAsyncClient._send_single_request\u001b[39m\u001b[34m(self, request)\u001b[39m\n\u001b[32m   1725\u001b[39m     \u001b[38;5;28;01mraise\u001b[39;00m \u001b[38;5;167;01mRuntimeError\u001b[39;00m(\n\u001b[32m   1726\u001b[39m         \u001b[33m\"\u001b[39m\u001b[33mAttempted to send an sync request with an AsyncClient instance.\u001b[39m\u001b[33m\"\u001b[39m\n\u001b[32m   1727\u001b[39m     )\n\u001b[32m   1729\u001b[39m \u001b[38;5;28;01mwith\u001b[39;00m request_context(request=request):\n\u001b[32m-> \u001b[39m\u001b[32m1730\u001b[39m     response = \u001b[38;5;28;01mawait\u001b[39;00m transport.handle_async_request(request)\n\u001b[32m   1732\u001b[39m \u001b[38;5;28;01massert\u001b[39;00m \u001b[38;5;28misinstance\u001b[39m(response.stream, AsyncByteStream)\n\u001b[32m   1733\u001b[39m response.request = request\n",
      "\u001b[36mFile \u001b[39m\u001b[32m/opt/anaconda3/envs/pyrit-dev/lib/python3.11/site-packages/httpx/_transports/default.py:394\u001b[39m, in \u001b[36mAsyncHTTPTransport.handle_async_request\u001b[39m\u001b[34m(self, request)\u001b[39m\n\u001b[32m    381\u001b[39m req = httpcore.Request(\n\u001b[32m    382\u001b[39m     method=request.method,\n\u001b[32m    383\u001b[39m     url=httpcore.URL(\n\u001b[32m   (...)\u001b[39m\u001b[32m    391\u001b[39m     extensions=request.extensions,\n\u001b[32m    392\u001b[39m )\n\u001b[32m    393\u001b[39m \u001b[38;5;28;01mwith\u001b[39;00m map_httpcore_exceptions():\n\u001b[32m--> \u001b[39m\u001b[32m394\u001b[39m     resp = \u001b[38;5;28;01mawait\u001b[39;00m \u001b[38;5;28mself\u001b[39m._pool.handle_async_request(req)\n\u001b[32m    396\u001b[39m \u001b[38;5;28;01massert\u001b[39;00m \u001b[38;5;28misinstance\u001b[39m(resp.stream, typing.AsyncIterable)\n\u001b[32m    398\u001b[39m \u001b[38;5;28;01mreturn\u001b[39;00m Response(\n\u001b[32m    399\u001b[39m     status_code=resp.status,\n\u001b[32m    400\u001b[39m     headers=resp.headers,\n\u001b[32m    401\u001b[39m     stream=AsyncResponseStream(resp.stream),\n\u001b[32m    402\u001b[39m     extensions=resp.extensions,\n\u001b[32m    403\u001b[39m )\n",
      "\u001b[36mFile \u001b[39m\u001b[32m/opt/anaconda3/envs/pyrit-dev/lib/python3.11/site-packages/httpcore/_async/connection_pool.py:256\u001b[39m, in \u001b[36mAsyncConnectionPool.handle_async_request\u001b[39m\u001b[34m(self, request)\u001b[39m\n\u001b[32m    253\u001b[39m         closing = \u001b[38;5;28mself\u001b[39m._assign_requests_to_connections()\n\u001b[32m    255\u001b[39m     \u001b[38;5;28;01mawait\u001b[39;00m \u001b[38;5;28mself\u001b[39m._close_connections(closing)\n\u001b[32m--> \u001b[39m\u001b[32m256\u001b[39m     \u001b[38;5;28;01mraise\u001b[39;00m exc \u001b[38;5;28;01mfrom\u001b[39;00m\u001b[38;5;250m \u001b[39m\u001b[38;5;28;01mNone\u001b[39;00m\n\u001b[32m    258\u001b[39m \u001b[38;5;66;03m# Return the response. Note that in this case we still have to manage\u001b[39;00m\n\u001b[32m    259\u001b[39m \u001b[38;5;66;03m# the point at which the response is closed.\u001b[39;00m\n\u001b[32m    260\u001b[39m \u001b[38;5;28;01massert\u001b[39;00m \u001b[38;5;28misinstance\u001b[39m(response.stream, typing.AsyncIterable)\n",
      "\u001b[36mFile \u001b[39m\u001b[32m/opt/anaconda3/envs/pyrit-dev/lib/python3.11/site-packages/httpcore/_async/connection_pool.py:236\u001b[39m, in \u001b[36mAsyncConnectionPool.handle_async_request\u001b[39m\u001b[34m(self, request)\u001b[39m\n\u001b[32m    232\u001b[39m connection = \u001b[38;5;28;01mawait\u001b[39;00m pool_request.wait_for_connection(timeout=timeout)\n\u001b[32m    234\u001b[39m \u001b[38;5;28;01mtry\u001b[39;00m:\n\u001b[32m    235\u001b[39m     \u001b[38;5;66;03m# Send the request on the assigned connection.\u001b[39;00m\n\u001b[32m--> \u001b[39m\u001b[32m236\u001b[39m     response = \u001b[38;5;28;01mawait\u001b[39;00m connection.handle_async_request(\n\u001b[32m    237\u001b[39m         pool_request.request\n\u001b[32m    238\u001b[39m     )\n\u001b[32m    239\u001b[39m \u001b[38;5;28;01mexcept\u001b[39;00m ConnectionNotAvailable:\n\u001b[32m    240\u001b[39m     \u001b[38;5;66;03m# In some cases a connection may initially be available to\u001b[39;00m\n\u001b[32m    241\u001b[39m     \u001b[38;5;66;03m# handle a request, but then become unavailable.\u001b[39;00m\n\u001b[32m    242\u001b[39m     \u001b[38;5;66;03m#\u001b[39;00m\n\u001b[32m    243\u001b[39m     \u001b[38;5;66;03m# In this case we clear the connection and try again.\u001b[39;00m\n\u001b[32m    244\u001b[39m     pool_request.clear_connection()\n",
      "\u001b[36mFile \u001b[39m\u001b[32m/opt/anaconda3/envs/pyrit-dev/lib/python3.11/site-packages/httpcore/_async/connection.py:103\u001b[39m, in \u001b[36mAsyncHTTPConnection.handle_async_request\u001b[39m\u001b[34m(self, request)\u001b[39m\n\u001b[32m    100\u001b[39m     \u001b[38;5;28mself\u001b[39m._connect_failed = \u001b[38;5;28;01mTrue\u001b[39;00m\n\u001b[32m    101\u001b[39m     \u001b[38;5;28;01mraise\u001b[39;00m exc\n\u001b[32m--> \u001b[39m\u001b[32m103\u001b[39m \u001b[38;5;28;01mreturn\u001b[39;00m \u001b[38;5;28;01mawait\u001b[39;00m \u001b[38;5;28mself\u001b[39m._connection.handle_async_request(request)\n",
      "\u001b[36mFile \u001b[39m\u001b[32m/opt/anaconda3/envs/pyrit-dev/lib/python3.11/site-packages/httpcore/_async/http11.py:136\u001b[39m, in \u001b[36mAsyncHTTP11Connection.handle_async_request\u001b[39m\u001b[34m(self, request)\u001b[39m\n\u001b[32m    134\u001b[39m     \u001b[38;5;28;01masync\u001b[39;00m \u001b[38;5;28;01mwith\u001b[39;00m Trace(\u001b[33m\"\u001b[39m\u001b[33mresponse_closed\u001b[39m\u001b[33m\"\u001b[39m, logger, request) \u001b[38;5;28;01mas\u001b[39;00m trace:\n\u001b[32m    135\u001b[39m         \u001b[38;5;28;01mawait\u001b[39;00m \u001b[38;5;28mself\u001b[39m._response_closed()\n\u001b[32m--> \u001b[39m\u001b[32m136\u001b[39m \u001b[38;5;28;01mraise\u001b[39;00m exc\n",
      "\u001b[36mFile \u001b[39m\u001b[32m/opt/anaconda3/envs/pyrit-dev/lib/python3.11/site-packages/httpcore/_async/http11.py:106\u001b[39m, in \u001b[36mAsyncHTTP11Connection.handle_async_request\u001b[39m\u001b[34m(self, request)\u001b[39m\n\u001b[32m     95\u001b[39m     \u001b[38;5;28;01mpass\u001b[39;00m\n\u001b[32m     97\u001b[39m \u001b[38;5;28;01masync\u001b[39;00m \u001b[38;5;28;01mwith\u001b[39;00m Trace(\n\u001b[32m     98\u001b[39m     \u001b[33m\"\u001b[39m\u001b[33mreceive_response_headers\u001b[39m\u001b[33m\"\u001b[39m, logger, request, kwargs\n\u001b[32m     99\u001b[39m ) \u001b[38;5;28;01mas\u001b[39;00m trace:\n\u001b[32m    100\u001b[39m     (\n\u001b[32m    101\u001b[39m         http_version,\n\u001b[32m    102\u001b[39m         status,\n\u001b[32m    103\u001b[39m         reason_phrase,\n\u001b[32m    104\u001b[39m         headers,\n\u001b[32m    105\u001b[39m         trailing_data,\n\u001b[32m--> \u001b[39m\u001b[32m106\u001b[39m     ) = \u001b[38;5;28;01mawait\u001b[39;00m \u001b[38;5;28mself\u001b[39m._receive_response_headers(**kwargs)\n\u001b[32m    107\u001b[39m     trace.return_value = (\n\u001b[32m    108\u001b[39m         http_version,\n\u001b[32m    109\u001b[39m         status,\n\u001b[32m    110\u001b[39m         reason_phrase,\n\u001b[32m    111\u001b[39m         headers,\n\u001b[32m    112\u001b[39m     )\n\u001b[32m    114\u001b[39m network_stream = \u001b[38;5;28mself\u001b[39m._network_stream\n",
      "\u001b[36mFile \u001b[39m\u001b[32m/opt/anaconda3/envs/pyrit-dev/lib/python3.11/site-packages/httpcore/_async/http11.py:177\u001b[39m, in \u001b[36mAsyncHTTP11Connection._receive_response_headers\u001b[39m\u001b[34m(self, request)\u001b[39m\n\u001b[32m    174\u001b[39m timeout = timeouts.get(\u001b[33m\"\u001b[39m\u001b[33mread\u001b[39m\u001b[33m\"\u001b[39m, \u001b[38;5;28;01mNone\u001b[39;00m)\n\u001b[32m    176\u001b[39m \u001b[38;5;28;01mwhile\u001b[39;00m \u001b[38;5;28;01mTrue\u001b[39;00m:\n\u001b[32m--> \u001b[39m\u001b[32m177\u001b[39m     event = \u001b[38;5;28;01mawait\u001b[39;00m \u001b[38;5;28mself\u001b[39m._receive_event(timeout=timeout)\n\u001b[32m    178\u001b[39m     \u001b[38;5;28;01mif\u001b[39;00m \u001b[38;5;28misinstance\u001b[39m(event, h11.Response):\n\u001b[32m    179\u001b[39m         \u001b[38;5;28;01mbreak\u001b[39;00m\n",
      "\u001b[36mFile \u001b[39m\u001b[32m/opt/anaconda3/envs/pyrit-dev/lib/python3.11/site-packages/httpcore/_async/http11.py:217\u001b[39m, in \u001b[36mAsyncHTTP11Connection._receive_event\u001b[39m\u001b[34m(self, timeout)\u001b[39m\n\u001b[32m    214\u001b[39m     event = \u001b[38;5;28mself\u001b[39m._h11_state.next_event()\n\u001b[32m    216\u001b[39m \u001b[38;5;28;01mif\u001b[39;00m event \u001b[38;5;129;01mis\u001b[39;00m h11.NEED_DATA:\n\u001b[32m--> \u001b[39m\u001b[32m217\u001b[39m     data = \u001b[38;5;28;01mawait\u001b[39;00m \u001b[38;5;28mself\u001b[39m._network_stream.read(\n\u001b[32m    218\u001b[39m         \u001b[38;5;28mself\u001b[39m.READ_NUM_BYTES, timeout=timeout\n\u001b[32m    219\u001b[39m     )\n\u001b[32m    221\u001b[39m     \u001b[38;5;66;03m# If we feed this case through h11 we'll raise an exception like:\u001b[39;00m\n\u001b[32m    222\u001b[39m     \u001b[38;5;66;03m#\u001b[39;00m\n\u001b[32m    223\u001b[39m     \u001b[38;5;66;03m#     httpcore.RemoteProtocolError: can't handle event type\u001b[39;00m\n\u001b[32m   (...)\u001b[39m\u001b[32m    227\u001b[39m     \u001b[38;5;66;03m# perspective. Instead we handle this case distinctly and treat\u001b[39;00m\n\u001b[32m    228\u001b[39m     \u001b[38;5;66;03m# it as a ConnectError.\u001b[39;00m\n\u001b[32m    229\u001b[39m     \u001b[38;5;28;01mif\u001b[39;00m data == \u001b[33mb\u001b[39m\u001b[33m\"\u001b[39m\u001b[33m\"\u001b[39m \u001b[38;5;129;01mand\u001b[39;00m \u001b[38;5;28mself\u001b[39m._h11_state.their_state == h11.SEND_RESPONSE:\n",
      "\u001b[36mFile \u001b[39m\u001b[32m/opt/anaconda3/envs/pyrit-dev/lib/python3.11/site-packages/httpcore/_backends/anyio.py:35\u001b[39m, in \u001b[36mAnyIOStream.read\u001b[39m\u001b[34m(self, max_bytes, timeout)\u001b[39m\n\u001b[32m     33\u001b[39m \u001b[38;5;28;01mwith\u001b[39;00m anyio.fail_after(timeout):\n\u001b[32m     34\u001b[39m     \u001b[38;5;28;01mtry\u001b[39;00m:\n\u001b[32m---> \u001b[39m\u001b[32m35\u001b[39m         \u001b[38;5;28;01mreturn\u001b[39;00m \u001b[38;5;28;01mawait\u001b[39;00m \u001b[38;5;28mself\u001b[39m._stream.receive(max_bytes=max_bytes)\n\u001b[32m     36\u001b[39m     \u001b[38;5;28;01mexcept\u001b[39;00m anyio.EndOfStream:  \u001b[38;5;66;03m# pragma: nocover\u001b[39;00m\n\u001b[32m     37\u001b[39m         \u001b[38;5;28;01mreturn\u001b[39;00m \u001b[33mb\u001b[39m\u001b[33m\"\u001b[39m\u001b[33m\"\u001b[39m\n",
      "\u001b[36mFile \u001b[39m\u001b[32m/opt/anaconda3/envs/pyrit-dev/lib/python3.11/site-packages/anyio/streams/tls.py:219\u001b[39m, in \u001b[36mTLSStream.receive\u001b[39m\u001b[34m(self, max_bytes)\u001b[39m\n\u001b[32m    218\u001b[39m \u001b[38;5;28;01masync\u001b[39;00m \u001b[38;5;28;01mdef\u001b[39;00m\u001b[38;5;250m \u001b[39m\u001b[34mreceive\u001b[39m(\u001b[38;5;28mself\u001b[39m, max_bytes: \u001b[38;5;28mint\u001b[39m = \u001b[32m65536\u001b[39m) -> \u001b[38;5;28mbytes\u001b[39m:\n\u001b[32m--> \u001b[39m\u001b[32m219\u001b[39m     data = \u001b[38;5;28;01mawait\u001b[39;00m \u001b[38;5;28mself\u001b[39m._call_sslobject_method(\u001b[38;5;28mself\u001b[39m._ssl_object.read, max_bytes)\n\u001b[32m    220\u001b[39m     \u001b[38;5;28;01mif\u001b[39;00m \u001b[38;5;129;01mnot\u001b[39;00m data:\n\u001b[32m    221\u001b[39m         \u001b[38;5;28;01mraise\u001b[39;00m EndOfStream\n",
      "\u001b[36mFile \u001b[39m\u001b[32m/opt/anaconda3/envs/pyrit-dev/lib/python3.11/site-packages/anyio/streams/tls.py:162\u001b[39m, in \u001b[36mTLSStream._call_sslobject_method\u001b[39m\u001b[34m(self, func, *args)\u001b[39m\n\u001b[32m    159\u001b[39m     \u001b[38;5;28;01mif\u001b[39;00m \u001b[38;5;28mself\u001b[39m._write_bio.pending:\n\u001b[32m    160\u001b[39m         \u001b[38;5;28;01mawait\u001b[39;00m \u001b[38;5;28mself\u001b[39m.transport_stream.send(\u001b[38;5;28mself\u001b[39m._write_bio.read())\n\u001b[32m--> \u001b[39m\u001b[32m162\u001b[39m     data = \u001b[38;5;28;01mawait\u001b[39;00m \u001b[38;5;28mself\u001b[39m.transport_stream.receive()\n\u001b[32m    163\u001b[39m \u001b[38;5;28;01mexcept\u001b[39;00m EndOfStream:\n\u001b[32m    164\u001b[39m     \u001b[38;5;28mself\u001b[39m._read_bio.write_eof()\n",
      "\u001b[36mFile \u001b[39m\u001b[32m/opt/anaconda3/envs/pyrit-dev/lib/python3.11/site-packages/anyio/_backends/_asyncio.py:1254\u001b[39m, in \u001b[36mSocketStream.receive\u001b[39m\u001b[34m(self, max_bytes)\u001b[39m\n\u001b[32m   1248\u001b[39m \u001b[38;5;28;01mif\u001b[39;00m (\n\u001b[32m   1249\u001b[39m     \u001b[38;5;129;01mnot\u001b[39;00m \u001b[38;5;28mself\u001b[39m._protocol.read_event.is_set()\n\u001b[32m   1250\u001b[39m     \u001b[38;5;129;01mand\u001b[39;00m \u001b[38;5;129;01mnot\u001b[39;00m \u001b[38;5;28mself\u001b[39m._transport.is_closing()\n\u001b[32m   1251\u001b[39m     \u001b[38;5;129;01mand\u001b[39;00m \u001b[38;5;129;01mnot\u001b[39;00m \u001b[38;5;28mself\u001b[39m._protocol.is_at_eof\n\u001b[32m   1252\u001b[39m ):\n\u001b[32m   1253\u001b[39m     \u001b[38;5;28mself\u001b[39m._transport.resume_reading()\n\u001b[32m-> \u001b[39m\u001b[32m1254\u001b[39m     \u001b[38;5;28;01mawait\u001b[39;00m \u001b[38;5;28mself\u001b[39m._protocol.read_event.wait()\n\u001b[32m   1255\u001b[39m     \u001b[38;5;28mself\u001b[39m._transport.pause_reading()\n\u001b[32m   1256\u001b[39m \u001b[38;5;28;01melse\u001b[39;00m:\n",
      "\u001b[36mFile \u001b[39m\u001b[32m/opt/anaconda3/envs/pyrit-dev/lib/python3.11/asyncio/locks.py:213\u001b[39m, in \u001b[36mEvent.wait\u001b[39m\u001b[34m(self)\u001b[39m\n\u001b[32m    211\u001b[39m \u001b[38;5;28mself\u001b[39m._waiters.append(fut)\n\u001b[32m    212\u001b[39m \u001b[38;5;28;01mtry\u001b[39;00m:\n\u001b[32m--> \u001b[39m\u001b[32m213\u001b[39m     \u001b[38;5;28;01mawait\u001b[39;00m fut\n\u001b[32m    214\u001b[39m     \u001b[38;5;28;01mreturn\u001b[39;00m \u001b[38;5;28;01mTrue\u001b[39;00m\n\u001b[32m    215\u001b[39m \u001b[38;5;28;01mfinally\u001b[39;00m:\n",
      "\u001b[31mCancelledError\u001b[39m: "
     ]
    }
   ],
   "source": [
    "await main()"
   ]
  },
  {
   "cell_type": "code",
   "execution_count": null,
   "id": "772542c6-86a0-4e39-bd13-ec9af6b2874b",
   "metadata": {},
   "outputs": [],
   "source": []
  }
 ],
 "metadata": {
  "kernelspec": {
   "display_name": "Python 3 (ipykernel)",
   "language": "python",
   "name": "python3"
  },
  "language_info": {
   "codemirror_mode": {
    "name": "ipython",
    "version": 3
   },
   "file_extension": ".py",
   "mimetype": "text/x-python",
   "name": "python",
   "nbconvert_exporter": "python",
   "pygments_lexer": "ipython3",
   "version": "3.11.11"
  }
 },
 "nbformat": 4,
 "nbformat_minor": 5
}
