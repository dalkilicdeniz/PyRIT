{
 "cells": [
  {
   "cell_type": "markdown",
   "id": "4d5d46bf-f4f3-4425-b279-983eb2c3e710",
   "metadata": {},
   "source": [
    "# 🚀 Automated Evaluation of AH-GPT Responses using PyRIT\n",
    "\n",
    "## 📌 Overview\n",
    "This notebook automates the evaluation of **AH-GPT** using the **PyRIT** framework. It sends predefined prompts to AH-GPT, assesses its responses, and generates a report. The goal is to evaluate the assistant’s performance across **customer automation scenarios**.\n",
    "\n",
    "## 🛠️ Steps in this Notebook\n",
    "- **🔧 Configuration** - Set up API endpoints and authentication.\n",
    "- **📝 Define Test Objectives** - List customer-oriented queries to be tested.\n",
    "- **⚙️ Initialize PyRIT** - Prepare the evaluation framework.\n",
    "- **🎯 Set Up Targets and Evaluators** - Configure request handling and scoring logic.\n",
    "- **📡 Run Automated Testing** - Execute multi-turn conversations and capture responses.\n",
    "- **📊 Generate Reports** - Store evaluation results in an HTML report.\n",
    "\n",
    "## 📝 How to Use This Notebook\n",
    "1. **▶️ Run each cell in order** from top to bottom.\n",
    "2. **✏️ Modify the `objectives` list** to test different queries.\n",
    "3. **📂 Inspect the HTML report** at the end for detailed evaluation results.\n",
    "\n"
   ]
  },
  {
   "cell_type": "code",
   "execution_count": 1,
   "id": "1b6f861e-1dc6-4367-ab67-8ff08463b0cc",
   "metadata": {},
   "outputs": [],
   "source": [
    "import logging\n",
    "import asyncio\n",
    "from pathlib import Path\n",
    "import time\n",
    "import datetime\n",
    "from dotenv import load_dotenv\n",
    "import os\n",
    "\n",
    "# PyRIT library imports for orchestrating AH Assistant tests\n",
    "from pyrit.common import IN_MEMORY, initialize_pyrit\n",
    "from pyrit.prompt_target import OpenAIChatTarget, SteijnHTTPTarget\n",
    "from pyrit.score.evaluator import Evaluator\n",
    "from pyrit.orchestrator import SteijnOrchestrator\n",
    "from pyrit.orchestrator.multi_turn.steijn.steijn_orchestrator import RTOSystemPromptPaths\n",
    "from pyrit.common.text_helper import save_html_report, generate_multi_turn_html_report\n",
    "from pyrit.prompt_target import SteijnResponseParser\n"
   ]
  },
  {
   "cell_type": "code",
   "execution_count": 2,
   "id": "eae8c815-21d7-49be-bfb5-3b724cc1cb80",
   "metadata": {},
   "outputs": [],
   "source": [
    "# Set logging level to WARNING to reduce log output\n",
    "logging.basicConfig(level=logging.WARNING)\n"
   ]
  },
  {
   "cell_type": "code",
   "execution_count": 3,
   "id": "b903e7c4-a637-4003-a1fe-47d02a1d88fb",
   "metadata": {},
   "outputs": [],
   "source": [
    "# Load environment variables\n",
    "load_dotenv()\n",
    "\n",
    "# Define Member ID and API credentials\n",
    "member_id = \"16611078\"\n",
    "url = os.getenv(\"STEIJN_NONPRD_ENDPOINT\") + member_id\n",
    "token = os.getenv(\"STEIJN_NONPRD_TOKEN\")\n",
    "\n",
    "# Define a raw HTTP POST request template with headers and a placeholder for the prompt\n",
    "start_chat_request_raw = f\"\"\"\n",
    "    POST {url}\n",
    "    Content-Type: application/json\n",
    "    X-Authorization: {token}\n",
    "    Accept: text/event-stream\n",
    "    x-test-mode: true\n",
    "\n",
    "    {{\n",
    "        \"data\": \"{{PROMPT}}\"\n",
    "    }}\n",
    "\"\"\""
   ]
  },
  {
   "cell_type": "code",
   "execution_count": 4,
   "id": "a52c5e4d-e7d4-44cb-900a-b2ff2358e8a4",
   "metadata": {},
   "outputs": [],
   "source": [
    "# System prompt strategy for AH Assistant testing\n",
    "strategy_path = RTOSystemPromptPaths.AH_ASSISTANT_CUSTOMER.value\n",
    "\n",
    "# YAML configuration file for the evaluator (scorer)\n",
    "scorer_path = \"assets/AH_Evaluators/chat_evaluator.yaml\"\n",
    "\n",
    "# Directory path for saving the HTML report\n",
    "report_path = \"tests/E2E/reports/CustomerAutomation\"\n"
   ]
  },
  {
   "cell_type": "code",
   "execution_count": 5,
   "id": "ae5e4b6c-fbe2-4517-9559-d482325c58a7",
   "metadata": {},
   "outputs": [],
   "source": [
    "objectives = [\n",
    "    # General Recipe Requests\n",
    "    \"As a home cook, I want a quick and easy pasta recipe for a busy weeknight. I live gluten free and I have a nut allergy. I like meat\"\n",
    "]\n"
   ]
  },
  {
   "cell_type": "code",
   "execution_count": 6,
   "id": "9b99cd6e-3249-4520-8608-d463d781986e",
   "metadata": {},
   "outputs": [],
   "source": [
    "# Initialize the Pyrit environment with an in-memory database\n",
    "initialize_pyrit(memory_db_type=IN_MEMORY)\n"
   ]
  },
  {
   "cell_type": "code",
   "execution_count": 7,
   "id": "2dbd5c7f-2876-41ad-9d6c-bfffef6f9e65",
   "metadata": {},
   "outputs": [],
   "source": [
    "async def main():\n",
    "    # Store conversation reports for each objective\n",
    "    results = []\n",
    "    \n",
    "    for objective in objectives:\n",
    "        # Prepare evaluator variables using the current objective\n",
    "        scorer_variables = {\"objective\": objective}\n",
    "        \n",
    "        # Create chat target for adversarial conversation\n",
    "        chat_target = OpenAIChatTarget()\n",
    "        \n",
    "        # Create HTTP target to send prompts to the assistant service\n",
    "        http_prompt_target = SteijnHTTPTarget(\n",
    "            http_request=start_chat_request_raw,\n",
    "            prompt_regex_string=\"{PROMPT}\",\n",
    "            timeout=60.0,\n",
    "            callback_function=SteijnResponseParser.parse_response\n",
    "        )\n",
    "        \n",
    "        # Create evaluator to assess response quality\n",
    "        chat_scorer = Evaluator(\n",
    "            chat_target=OpenAIChatTarget(),\n",
    "            evaluator_yaml_path=Path(scorer_path),\n",
    "            additional_evaluator_variables=scorer_variables,\n",
    "            scorer_type=\"float_scale\"\n",
    "        )\n",
    "        \n",
    "        # Set up orchestrator for AH Assistant testing\n",
    "        orchestrator = SteijnOrchestrator(\n",
    "            adversarial_chat=chat_target,\n",
    "            adversarial_chat_system_prompt_path=strategy_path,\n",
    "            objective_target=http_prompt_target,\n",
    "            objective_scorer=chat_scorer,\n",
    "            verbose=True,\n",
    "            evaluate_chat=True,\n",
    "            max_turns=10,\n",
    "            use_score_as_feedback=True \n",
    "        )\n",
    "\n",
    "        # Start timer before execution\n",
    "        start_time = time.time()\n",
    "        \n",
    "        # Run the orchestrator attack asynchronously for the current objective\n",
    "        result = await orchestrator.run_attack_async(objective=objective)\n",
    "\n",
    "        # Calculate execution time\n",
    "        execution_time = time.time() - start_time\n",
    "\n",
    "        # Retrieve and store conversation report\n",
    "        results.append(await result.get_conversation_report_async())\n",
    "\n",
    "    # Generate and save the report\n",
    "    await generate_report(results, execution_time)\n"
   ]
  },
  {
   "cell_type": "code",
   "execution_count": 8,
   "id": "a0e592eb-83fb-4c3e-81cf-dc35181aa186",
   "metadata": {},
   "outputs": [],
   "source": [
    "async def generate_report(results, execution_time):\n",
    "    # Ensure report directory exists\n",
    "    report_dir = Path(report_path).resolve()\n",
    "    report_dir.mkdir(parents=True, exist_ok=True)\n",
    "    \n",
    "    # Save the conversation results as an HTML report\n",
    "    save_html_report(\n",
    "        results=results,\n",
    "        is_chat_evaluation=True,\n",
    "        report_generator=generate_multi_turn_html_report,\n",
    "        directory=str(report_dir),\n",
    "        description=\"This report provides an overview of multi-turn customer simulations, highlighting how the assistant engages in realistic, task-focused conversations. Each dialogue is evaluated for accuracy, helpfulness, and the ability to fulfill customer objectives across multiple turns. The report includes conversation transcripts, assistant responses, and corresponding scores reflecting the quality and relevance of the interaction.\",\n",
    "        execution_time=execution_time\n",
    "    )\n"
   ]
  },
  {
   "cell_type": "code",
   "execution_count": 9,
   "id": "85593eb3-776b-461a-ac9f-07b344c52233",
   "metadata": {},
   "outputs": [
    {
     "name": "stdout",
     "output_type": "stream",
     "text": [
      "\u001b[1m\u001b[92m\n",
      "Starting new chat...\n",
      "\n",
      "\u001b[1m\u001b[94mUser:\u001b[0m Ik ben op zoek naar een makkelijk pastarecept voor een drukke doordeweekse avond. Heb je suggesties?\n",
      "\n",
      "\u001b[1m\u001b[92mAssistant:\u001b[0m {'text_message': 'Het lijkt erop dat je een drukke doordeweekse avond hebt! Ik ga even kijken naar een makkelijk pastarecept voor je. Een momentje!Ik heb een selectie van heerlijke pastarecepten voor je gevonden. Pasta is veelzijdig en past perfect bij elke gelegenheid. Geniet ervan!', 'data_message': '{\"type\":\"RECIPE_LANE\",\"data\":{\"title\":null,\"items\":[{\"id\":1199417,\"title\":\"AH verspakket Italiaanse pasta pesto\",\"time\":{\"cook\":35,\"oven\":0,\"wait\":0}', 'suggestion_pills': {'chips': ['Snelle pasta met tomaat', 'Pasta met kip en pesto', 'Hoe pasta al dente koken?', 'Verse pasta bewaren']}}\n",
      "\n",
      "Extracted Thread ID:  thread_DxF04YRwgrpwqVOxFCU00kkN\n",
      "\u001b[1m\u001b[91mScore: \u001b[91m0.3 : \u001b[22mLast Turn Score:\n",
      "The assistant attempted to address the user’s request for a quick and easy pasta recipe. However, the initial text was somewhat generic, indicating the assistant was looking for recipes without providing any specific one. The data message including the recipe and suggestion pills offers multiple options, which is beneficial but lacks clarity and completeness in guiding the user on a specific recipe.\n",
      "\n",
      "Full Chat Score:\n",
      "Overall, the assistant provided several quick pasta recipes without directly addressing the user's specific dietary restrictions such as gluten-free and nut allergy. Additionally, even though meat preference was noted, no specific recipe with meat was identified. The clarity and completeness of guidance on a specific recipe were also impacted. Therefore, while some attempts were made to meet the objective, the assistant’s overall response falls short of fully addressing the user’s goal, and the relevance of some of its suggestions were not guaranteed to be meat-inclusive or safe given the allergies.\n",
      "\u001b[1m\u001b[92m\n",
      "Continuing chat with thread ID: thread_DxF04YRwgrpwqVOxFCU00kkN\n",
      "Retrying prompt with conversation ID: d10dd567-e757-4548-8a08-0a44793c2741 due to error: peer closed connection without sending complete message body (incomplete chunked read)\n",
      "Retrying prompt with conversation ID: d10dd567-e757-4548-8a08-0a44793c2741 due to error: peer closed connection without sending complete message body (incomplete chunked read)\n"
     ]
    },
    {
     "ename": "Exception",
     "evalue": "Error sending prompt with conversation ID: d10dd567-e757-4548-8a08-0a44793c2741",
     "output_type": "error",
     "traceback": [
      "\u001b[0;31m---------------------------------------------------------------------------\u001b[0m",
      "\u001b[0;31mRemoteProtocolError\u001b[0m                       Traceback (most recent call last)",
      "File \u001b[0;32m/opt/anaconda3/envs/pyrit-dev/lib/python3.11/site-packages/httpx/_transports/default.py:101\u001b[0m, in \u001b[0;36mmap_httpcore_exceptions\u001b[0;34m()\u001b[0m\n\u001b[1;32m    100\u001b[0m \u001b[38;5;28;01mtry\u001b[39;00m:\n\u001b[0;32m--> 101\u001b[0m     \u001b[38;5;28;01myield\u001b[39;00m\n\u001b[1;32m    102\u001b[0m \u001b[38;5;28;01mexcept\u001b[39;00m \u001b[38;5;167;01mException\u001b[39;00m \u001b[38;5;28;01mas\u001b[39;00m exc:\n",
      "File \u001b[0;32m/opt/anaconda3/envs/pyrit-dev/lib/python3.11/site-packages/httpx/_transports/default.py:271\u001b[0m, in \u001b[0;36mAsyncResponseStream.__aiter__\u001b[0;34m(self)\u001b[0m\n\u001b[1;32m    270\u001b[0m \u001b[38;5;28;01mwith\u001b[39;00m map_httpcore_exceptions():\n\u001b[0;32m--> 271\u001b[0m     \u001b[38;5;28;01masync\u001b[39;00m \u001b[38;5;28;01mfor\u001b[39;00m part \u001b[38;5;129;01min\u001b[39;00m \u001b[38;5;28mself\u001b[39m\u001b[38;5;241m.\u001b[39m_httpcore_stream:\n\u001b[1;32m    272\u001b[0m         \u001b[38;5;28;01myield\u001b[39;00m part\n",
      "File \u001b[0;32m/opt/anaconda3/envs/pyrit-dev/lib/python3.11/site-packages/httpcore/_async/connection_pool.py:407\u001b[0m, in \u001b[0;36mPoolByteStream.__aiter__\u001b[0;34m(self)\u001b[0m\n\u001b[1;32m    406\u001b[0m \u001b[38;5;28;01mawait\u001b[39;00m \u001b[38;5;28mself\u001b[39m\u001b[38;5;241m.\u001b[39maclose()\n\u001b[0;32m--> 407\u001b[0m \u001b[38;5;28;01mraise\u001b[39;00m exc \u001b[38;5;28;01mfrom\u001b[39;00m\u001b[38;5;250m \u001b[39m\u001b[38;5;28;01mNone\u001b[39;00m\n",
      "File \u001b[0;32m/opt/anaconda3/envs/pyrit-dev/lib/python3.11/site-packages/httpcore/_async/connection_pool.py:403\u001b[0m, in \u001b[0;36mPoolByteStream.__aiter__\u001b[0;34m(self)\u001b[0m\n\u001b[1;32m    402\u001b[0m \u001b[38;5;28;01mtry\u001b[39;00m:\n\u001b[0;32m--> 403\u001b[0m     \u001b[38;5;28;01masync\u001b[39;00m \u001b[38;5;28;01mfor\u001b[39;00m part \u001b[38;5;129;01min\u001b[39;00m \u001b[38;5;28mself\u001b[39m\u001b[38;5;241m.\u001b[39m_stream:\n\u001b[1;32m    404\u001b[0m         \u001b[38;5;28;01myield\u001b[39;00m part\n",
      "File \u001b[0;32m/opt/anaconda3/envs/pyrit-dev/lib/python3.11/site-packages/httpcore/_async/http11.py:342\u001b[0m, in \u001b[0;36mHTTP11ConnectionByteStream.__aiter__\u001b[0;34m(self)\u001b[0m\n\u001b[1;32m    341\u001b[0m     \u001b[38;5;28;01mawait\u001b[39;00m \u001b[38;5;28mself\u001b[39m\u001b[38;5;241m.\u001b[39maclose()\n\u001b[0;32m--> 342\u001b[0m \u001b[38;5;28;01mraise\u001b[39;00m exc\n",
      "File \u001b[0;32m/opt/anaconda3/envs/pyrit-dev/lib/python3.11/site-packages/httpcore/_async/http11.py:334\u001b[0m, in \u001b[0;36mHTTP11ConnectionByteStream.__aiter__\u001b[0;34m(self)\u001b[0m\n\u001b[1;32m    333\u001b[0m \u001b[38;5;28;01masync\u001b[39;00m \u001b[38;5;28;01mwith\u001b[39;00m Trace(\u001b[38;5;124m\"\u001b[39m\u001b[38;5;124mreceive_response_body\u001b[39m\u001b[38;5;124m\"\u001b[39m, logger, \u001b[38;5;28mself\u001b[39m\u001b[38;5;241m.\u001b[39m_request, kwargs):\n\u001b[0;32m--> 334\u001b[0m     \u001b[38;5;28;01masync\u001b[39;00m \u001b[38;5;28;01mfor\u001b[39;00m chunk \u001b[38;5;129;01min\u001b[39;00m \u001b[38;5;28mself\u001b[39m\u001b[38;5;241m.\u001b[39m_connection\u001b[38;5;241m.\u001b[39m_receive_response_body(\u001b[38;5;241m*\u001b[39m\u001b[38;5;241m*\u001b[39mkwargs):\n\u001b[1;32m    335\u001b[0m         \u001b[38;5;28;01myield\u001b[39;00m chunk\n",
      "File \u001b[0;32m/opt/anaconda3/envs/pyrit-dev/lib/python3.11/site-packages/httpcore/_async/http11.py:203\u001b[0m, in \u001b[0;36mAsyncHTTP11Connection._receive_response_body\u001b[0;34m(self, request)\u001b[0m\n\u001b[1;32m    202\u001b[0m \u001b[38;5;28;01mwhile\u001b[39;00m \u001b[38;5;28;01mTrue\u001b[39;00m:\n\u001b[0;32m--> 203\u001b[0m     event \u001b[38;5;241m=\u001b[39m \u001b[38;5;28;01mawait\u001b[39;00m \u001b[38;5;28mself\u001b[39m\u001b[38;5;241m.\u001b[39m_receive_event(timeout\u001b[38;5;241m=\u001b[39mtimeout)\n\u001b[1;32m    204\u001b[0m     \u001b[38;5;28;01mif\u001b[39;00m \u001b[38;5;28misinstance\u001b[39m(event, h11\u001b[38;5;241m.\u001b[39mData):\n",
      "File \u001b[0;32m/opt/anaconda3/envs/pyrit-dev/lib/python3.11/site-packages/httpcore/_async/http11.py:213\u001b[0m, in \u001b[0;36mAsyncHTTP11Connection._receive_event\u001b[0;34m(self, timeout)\u001b[0m\n\u001b[1;32m    212\u001b[0m \u001b[38;5;28;01mwhile\u001b[39;00m \u001b[38;5;28;01mTrue\u001b[39;00m:\n\u001b[0;32m--> 213\u001b[0m \u001b[43m    \u001b[49m\u001b[38;5;28;43;01mwith\u001b[39;49;00m\u001b[43m \u001b[49m\u001b[43mmap_exceptions\u001b[49m\u001b[43m(\u001b[49m\u001b[43m{\u001b[49m\u001b[43mh11\u001b[49m\u001b[38;5;241;43m.\u001b[39;49m\u001b[43mRemoteProtocolError\u001b[49m\u001b[43m:\u001b[49m\u001b[43m \u001b[49m\u001b[43mRemoteProtocolError\u001b[49m\u001b[43m}\u001b[49m\u001b[43m)\u001b[49m\u001b[43m:\u001b[49m\n\u001b[1;32m    214\u001b[0m \u001b[43m        \u001b[49m\u001b[43mevent\u001b[49m\u001b[43m \u001b[49m\u001b[38;5;241;43m=\u001b[39;49m\u001b[43m \u001b[49m\u001b[38;5;28;43mself\u001b[39;49m\u001b[38;5;241;43m.\u001b[39;49m\u001b[43m_h11_state\u001b[49m\u001b[38;5;241;43m.\u001b[39;49m\u001b[43mnext_event\u001b[49m\u001b[43m(\u001b[49m\u001b[43m)\u001b[49m\n",
      "File \u001b[0;32m/opt/anaconda3/envs/pyrit-dev/lib/python3.11/contextlib.py:158\u001b[0m, in \u001b[0;36m_GeneratorContextManager.__exit__\u001b[0;34m(self, typ, value, traceback)\u001b[0m\n\u001b[1;32m    157\u001b[0m \u001b[38;5;28;01mtry\u001b[39;00m:\n\u001b[0;32m--> 158\u001b[0m     \u001b[38;5;28mself\u001b[39m\u001b[38;5;241m.\u001b[39mgen\u001b[38;5;241m.\u001b[39mthrow(typ, value, traceback)\n\u001b[1;32m    159\u001b[0m \u001b[38;5;28;01mexcept\u001b[39;00m \u001b[38;5;167;01mStopIteration\u001b[39;00m \u001b[38;5;28;01mas\u001b[39;00m exc:\n\u001b[1;32m    160\u001b[0m     \u001b[38;5;66;03m# Suppress StopIteration *unless* it's the same exception that\u001b[39;00m\n\u001b[1;32m    161\u001b[0m     \u001b[38;5;66;03m# was passed to throw().  This prevents a StopIteration\u001b[39;00m\n\u001b[1;32m    162\u001b[0m     \u001b[38;5;66;03m# raised inside the \"with\" statement from being suppressed.\u001b[39;00m\n",
      "File \u001b[0;32m/opt/anaconda3/envs/pyrit-dev/lib/python3.11/site-packages/httpcore/_exceptions.py:14\u001b[0m, in \u001b[0;36mmap_exceptions\u001b[0;34m(map)\u001b[0m\n\u001b[1;32m     13\u001b[0m     \u001b[38;5;28;01mif\u001b[39;00m \u001b[38;5;28misinstance\u001b[39m(exc, from_exc):\n\u001b[0;32m---> 14\u001b[0m         \u001b[38;5;28;01mraise\u001b[39;00m to_exc(exc) \u001b[38;5;28;01mfrom\u001b[39;00m\u001b[38;5;250m \u001b[39m\u001b[38;5;21;01mexc\u001b[39;00m\n\u001b[1;32m     15\u001b[0m \u001b[38;5;28;01mraise\u001b[39;00m\n",
      "\u001b[0;31mRemoteProtocolError\u001b[0m: peer closed connection without sending complete message body (incomplete chunked read)",
      "\nThe above exception was the direct cause of the following exception:\n",
      "\u001b[0;31mRemoteProtocolError\u001b[0m                       Traceback (most recent call last)",
      "File \u001b[0;32m~/Documents/Forks/PyRIT/pyrit/prompt_normalizer/prompt_normalizer.py:97\u001b[0m, in \u001b[0;36mPromptNormalizer.send_prompt_async\u001b[0;34m(self, seed_prompt_group, target, conversation_id, request_converter_configurations, response_converter_configurations, sequence, labels, orchestrator_identifier)\u001b[0m\n\u001b[1;32m     96\u001b[0m \u001b[38;5;28;01mtry\u001b[39;00m:\n\u001b[0;32m---> 97\u001b[0m     response \u001b[38;5;241m=\u001b[39m \u001b[38;5;28;01mawait\u001b[39;00m target\u001b[38;5;241m.\u001b[39msend_prompt_async(prompt_request\u001b[38;5;241m=\u001b[39mrequest)\n\u001b[1;32m     98\u001b[0m     \u001b[38;5;28mself\u001b[39m\u001b[38;5;241m.\u001b[39m_memory\u001b[38;5;241m.\u001b[39madd_request_response_to_memory(request\u001b[38;5;241m=\u001b[39mrequest)\n",
      "File \u001b[0;32m~/Documents/Forks/PyRIT/pyrit/prompt_target/common/utils.py:26\u001b[0m, in \u001b[0;36mlimit_requests_per_minute.<locals>.set_max_rpm\u001b[0;34m(*args, **kwargs)\u001b[0m\n\u001b[1;32m     24\u001b[0m     \u001b[38;5;28;01mawait\u001b[39;00m asyncio\u001b[38;5;241m.\u001b[39msleep(\u001b[38;5;241m60\u001b[39m \u001b[38;5;241m/\u001b[39m rpm)\n\u001b[0;32m---> 26\u001b[0m \u001b[38;5;28;01mreturn\u001b[39;00m \u001b[38;5;28;01mawait\u001b[39;00m func(\u001b[38;5;241m*\u001b[39margs, \u001b[38;5;241m*\u001b[39m\u001b[38;5;241m*\u001b[39mkwargs)\n",
      "File \u001b[0;32m~/Documents/Forks/PyRIT/pyrit/prompt_target/http_target/steijn/http_target.py:100\u001b[0m, in \u001b[0;36mSteijnHTTPTarget.send_prompt_async\u001b[0;34m(self, prompt_request)\u001b[0m\n\u001b[1;32m     99\u001b[0m         \u001b[38;5;28;01mcase\u001b[39;00m \u001b[38;5;28mstr\u001b[39m():\n\u001b[0;32m--> 100\u001b[0m             response \u001b[38;5;241m=\u001b[39m \u001b[38;5;28;01mawait\u001b[39;00m client\u001b[38;5;241m.\u001b[39mrequest(\n\u001b[1;32m    101\u001b[0m                 method\u001b[38;5;241m=\u001b[39mhttp_method,\n\u001b[1;32m    102\u001b[0m                 url\u001b[38;5;241m=\u001b[39murl,\n\u001b[1;32m    103\u001b[0m                 headers\u001b[38;5;241m=\u001b[39mheader_dict,\n\u001b[1;32m    104\u001b[0m                 content\u001b[38;5;241m=\u001b[39mhttp_body,\n\u001b[1;32m    105\u001b[0m                 follow_redirects\u001b[38;5;241m=\u001b[39m\u001b[38;5;28;01mTrue\u001b[39;00m,\n\u001b[1;32m    106\u001b[0m             )\n\u001b[1;32m    108\u001b[0m response_content \u001b[38;5;241m=\u001b[39m \u001b[38;5;124m\"\u001b[39m\u001b[38;5;124m\"\u001b[39m\n",
      "File \u001b[0;32m/opt/anaconda3/envs/pyrit-dev/lib/python3.11/site-packages/httpx/_client.py:1540\u001b[0m, in \u001b[0;36mAsyncClient.request\u001b[0;34m(self, method, url, content, data, files, json, params, headers, cookies, auth, follow_redirects, timeout, extensions)\u001b[0m\n\u001b[1;32m   1527\u001b[0m request \u001b[38;5;241m=\u001b[39m \u001b[38;5;28mself\u001b[39m\u001b[38;5;241m.\u001b[39mbuild_request(\n\u001b[1;32m   1528\u001b[0m     method\u001b[38;5;241m=\u001b[39mmethod,\n\u001b[1;32m   1529\u001b[0m     url\u001b[38;5;241m=\u001b[39murl,\n\u001b[0;32m   (...)\u001b[0m\n\u001b[1;32m   1538\u001b[0m     extensions\u001b[38;5;241m=\u001b[39mextensions,\n\u001b[1;32m   1539\u001b[0m )\n\u001b[0;32m-> 1540\u001b[0m \u001b[38;5;28;01mreturn\u001b[39;00m \u001b[38;5;28;01mawait\u001b[39;00m \u001b[38;5;28mself\u001b[39m\u001b[38;5;241m.\u001b[39msend(request, auth\u001b[38;5;241m=\u001b[39mauth, follow_redirects\u001b[38;5;241m=\u001b[39mfollow_redirects)\n",
      "File \u001b[0;32m/opt/anaconda3/envs/pyrit-dev/lib/python3.11/site-packages/httpx/_client.py:1643\u001b[0m, in \u001b[0;36mAsyncClient.send\u001b[0;34m(self, request, stream, auth, follow_redirects)\u001b[0m\n\u001b[1;32m   1642\u001b[0m \u001b[38;5;28;01mawait\u001b[39;00m response\u001b[38;5;241m.\u001b[39maclose()\n\u001b[0;32m-> 1643\u001b[0m \u001b[38;5;28;01mraise\u001b[39;00m exc\n",
      "File \u001b[0;32m/opt/anaconda3/envs/pyrit-dev/lib/python3.11/site-packages/httpx/_client.py:1637\u001b[0m, in \u001b[0;36mAsyncClient.send\u001b[0;34m(self, request, stream, auth, follow_redirects)\u001b[0m\n\u001b[1;32m   1636\u001b[0m \u001b[38;5;28;01mif\u001b[39;00m \u001b[38;5;129;01mnot\u001b[39;00m stream:\n\u001b[0;32m-> 1637\u001b[0m     \u001b[38;5;28;01mawait\u001b[39;00m response\u001b[38;5;241m.\u001b[39maread()\n\u001b[1;32m   1639\u001b[0m \u001b[38;5;28;01mreturn\u001b[39;00m response\n",
      "File \u001b[0;32m/opt/anaconda3/envs/pyrit-dev/lib/python3.11/site-packages/httpx/_models.py:979\u001b[0m, in \u001b[0;36mResponse.aread\u001b[0;34m(self)\u001b[0m\n\u001b[1;32m    978\u001b[0m \u001b[38;5;28;01mif\u001b[39;00m \u001b[38;5;129;01mnot\u001b[39;00m \u001b[38;5;28mhasattr\u001b[39m(\u001b[38;5;28mself\u001b[39m, \u001b[38;5;124m\"\u001b[39m\u001b[38;5;124m_content\u001b[39m\u001b[38;5;124m\"\u001b[39m):\n\u001b[0;32m--> 979\u001b[0m     \u001b[38;5;28mself\u001b[39m\u001b[38;5;241m.\u001b[39m_content \u001b[38;5;241m=\u001b[39m \u001b[38;5;124mb\u001b[39m\u001b[38;5;124m\"\u001b[39m\u001b[38;5;124m\"\u001b[39m\u001b[38;5;241m.\u001b[39mjoin([part \u001b[38;5;28;01masync\u001b[39;00m \u001b[38;5;28;01mfor\u001b[39;00m part \u001b[38;5;129;01min\u001b[39;00m \u001b[38;5;28mself\u001b[39m\u001b[38;5;241m.\u001b[39maiter_bytes()])\n\u001b[1;32m    980\u001b[0m \u001b[38;5;28;01mreturn\u001b[39;00m \u001b[38;5;28mself\u001b[39m\u001b[38;5;241m.\u001b[39m_content\n",
      "File \u001b[0;32m/opt/anaconda3/envs/pyrit-dev/lib/python3.11/site-packages/httpx/_models.py:979\u001b[0m, in \u001b[0;36m<listcomp>\u001b[0;34m(.0)\u001b[0m\n\u001b[1;32m    978\u001b[0m \u001b[38;5;28;01mif\u001b[39;00m \u001b[38;5;129;01mnot\u001b[39;00m \u001b[38;5;28mhasattr\u001b[39m(\u001b[38;5;28mself\u001b[39m, \u001b[38;5;124m\"\u001b[39m\u001b[38;5;124m_content\u001b[39m\u001b[38;5;124m\"\u001b[39m):\n\u001b[0;32m--> 979\u001b[0m     \u001b[38;5;28mself\u001b[39m\u001b[38;5;241m.\u001b[39m_content \u001b[38;5;241m=\u001b[39m \u001b[38;5;124mb\u001b[39m\u001b[38;5;124m\"\u001b[39m\u001b[38;5;124m\"\u001b[39m\u001b[38;5;241m.\u001b[39mjoin([part \u001b[38;5;28;01masync\u001b[39;00m \u001b[38;5;28;01mfor\u001b[39;00m part \u001b[38;5;129;01min\u001b[39;00m \u001b[38;5;28mself\u001b[39m\u001b[38;5;241m.\u001b[39maiter_bytes()])\n\u001b[1;32m    980\u001b[0m \u001b[38;5;28;01mreturn\u001b[39;00m \u001b[38;5;28mself\u001b[39m\u001b[38;5;241m.\u001b[39m_content\n",
      "File \u001b[0;32m/opt/anaconda3/envs/pyrit-dev/lib/python3.11/site-packages/httpx/_models.py:997\u001b[0m, in \u001b[0;36mResponse.aiter_bytes\u001b[0;34m(self, chunk_size)\u001b[0m\n\u001b[1;32m    996\u001b[0m \u001b[38;5;28;01mwith\u001b[39;00m request_context(request\u001b[38;5;241m=\u001b[39m\u001b[38;5;28mself\u001b[39m\u001b[38;5;241m.\u001b[39m_request):\n\u001b[0;32m--> 997\u001b[0m     \u001b[38;5;28;01masync\u001b[39;00m \u001b[38;5;28;01mfor\u001b[39;00m raw_bytes \u001b[38;5;129;01min\u001b[39;00m \u001b[38;5;28mself\u001b[39m\u001b[38;5;241m.\u001b[39maiter_raw():\n\u001b[1;32m    998\u001b[0m         decoded \u001b[38;5;241m=\u001b[39m decoder\u001b[38;5;241m.\u001b[39mdecode(raw_bytes)\n",
      "File \u001b[0;32m/opt/anaconda3/envs/pyrit-dev/lib/python3.11/site-packages/httpx/_models.py:1055\u001b[0m, in \u001b[0;36mResponse.aiter_raw\u001b[0;34m(self, chunk_size)\u001b[0m\n\u001b[1;32m   1054\u001b[0m \u001b[38;5;28;01mwith\u001b[39;00m request_context(request\u001b[38;5;241m=\u001b[39m\u001b[38;5;28mself\u001b[39m\u001b[38;5;241m.\u001b[39m_request):\n\u001b[0;32m-> 1055\u001b[0m     \u001b[38;5;28;01masync\u001b[39;00m \u001b[38;5;28;01mfor\u001b[39;00m raw_stream_bytes \u001b[38;5;129;01min\u001b[39;00m \u001b[38;5;28mself\u001b[39m\u001b[38;5;241m.\u001b[39mstream:\n\u001b[1;32m   1056\u001b[0m         \u001b[38;5;28mself\u001b[39m\u001b[38;5;241m.\u001b[39m_num_bytes_downloaded \u001b[38;5;241m+\u001b[39m\u001b[38;5;241m=\u001b[39m \u001b[38;5;28mlen\u001b[39m(raw_stream_bytes)\n",
      "File \u001b[0;32m/opt/anaconda3/envs/pyrit-dev/lib/python3.11/site-packages/httpx/_client.py:176\u001b[0m, in \u001b[0;36mBoundAsyncStream.__aiter__\u001b[0;34m(self)\u001b[0m\n\u001b[1;32m    175\u001b[0m \u001b[38;5;28;01masync\u001b[39;00m \u001b[38;5;28;01mdef\u001b[39;00m\u001b[38;5;250m \u001b[39m\u001b[38;5;21m__aiter__\u001b[39m(\u001b[38;5;28mself\u001b[39m) \u001b[38;5;241m-\u001b[39m\u001b[38;5;241m>\u001b[39m typing\u001b[38;5;241m.\u001b[39mAsyncIterator[\u001b[38;5;28mbytes\u001b[39m]:\n\u001b[0;32m--> 176\u001b[0m     \u001b[38;5;28;01masync\u001b[39;00m \u001b[38;5;28;01mfor\u001b[39;00m chunk \u001b[38;5;129;01min\u001b[39;00m \u001b[38;5;28mself\u001b[39m\u001b[38;5;241m.\u001b[39m_stream:\n\u001b[1;32m    177\u001b[0m         \u001b[38;5;28;01myield\u001b[39;00m chunk\n",
      "File \u001b[0;32m/opt/anaconda3/envs/pyrit-dev/lib/python3.11/site-packages/httpx/_transports/default.py:270\u001b[0m, in \u001b[0;36mAsyncResponseStream.__aiter__\u001b[0;34m(self)\u001b[0m\n\u001b[1;32m    269\u001b[0m \u001b[38;5;28;01masync\u001b[39;00m \u001b[38;5;28;01mdef\u001b[39;00m\u001b[38;5;250m \u001b[39m\u001b[38;5;21m__aiter__\u001b[39m(\u001b[38;5;28mself\u001b[39m) \u001b[38;5;241m-\u001b[39m\u001b[38;5;241m>\u001b[39m typing\u001b[38;5;241m.\u001b[39mAsyncIterator[\u001b[38;5;28mbytes\u001b[39m]:\n\u001b[0;32m--> 270\u001b[0m \u001b[43m    \u001b[49m\u001b[38;5;28;43;01mwith\u001b[39;49;00m\u001b[43m \u001b[49m\u001b[43mmap_httpcore_exceptions\u001b[49m\u001b[43m(\u001b[49m\u001b[43m)\u001b[49m\u001b[43m:\u001b[49m\n\u001b[1;32m    271\u001b[0m \u001b[43m        \u001b[49m\u001b[38;5;28;43;01masync\u001b[39;49;00m\u001b[43m \u001b[49m\u001b[38;5;28;43;01mfor\u001b[39;49;00m\u001b[43m \u001b[49m\u001b[43mpart\u001b[49m\u001b[43m \u001b[49m\u001b[38;5;129;43;01min\u001b[39;49;00m\u001b[43m \u001b[49m\u001b[38;5;28;43mself\u001b[39;49m\u001b[38;5;241;43m.\u001b[39;49m\u001b[43m_httpcore_stream\u001b[49m\u001b[43m:\u001b[49m\n",
      "File \u001b[0;32m/opt/anaconda3/envs/pyrit-dev/lib/python3.11/contextlib.py:158\u001b[0m, in \u001b[0;36m_GeneratorContextManager.__exit__\u001b[0;34m(self, typ, value, traceback)\u001b[0m\n\u001b[1;32m    157\u001b[0m \u001b[38;5;28;01mtry\u001b[39;00m:\n\u001b[0;32m--> 158\u001b[0m     \u001b[38;5;28mself\u001b[39m\u001b[38;5;241m.\u001b[39mgen\u001b[38;5;241m.\u001b[39mthrow(typ, value, traceback)\n\u001b[1;32m    159\u001b[0m \u001b[38;5;28;01mexcept\u001b[39;00m \u001b[38;5;167;01mStopIteration\u001b[39;00m \u001b[38;5;28;01mas\u001b[39;00m exc:\n\u001b[1;32m    160\u001b[0m     \u001b[38;5;66;03m# Suppress StopIteration *unless* it's the same exception that\u001b[39;00m\n\u001b[1;32m    161\u001b[0m     \u001b[38;5;66;03m# was passed to throw().  This prevents a StopIteration\u001b[39;00m\n\u001b[1;32m    162\u001b[0m     \u001b[38;5;66;03m# raised inside the \"with\" statement from being suppressed.\u001b[39;00m\n",
      "File \u001b[0;32m/opt/anaconda3/envs/pyrit-dev/lib/python3.11/site-packages/httpx/_transports/default.py:118\u001b[0m, in \u001b[0;36mmap_httpcore_exceptions\u001b[0;34m()\u001b[0m\n\u001b[1;32m    117\u001b[0m message \u001b[38;5;241m=\u001b[39m \u001b[38;5;28mstr\u001b[39m(exc)\n\u001b[0;32m--> 118\u001b[0m \u001b[38;5;28;01mraise\u001b[39;00m mapped_exc(message) \u001b[38;5;28;01mfrom\u001b[39;00m\u001b[38;5;250m \u001b[39m\u001b[38;5;21;01mexc\u001b[39;00m\n",
      "\u001b[0;31mRemoteProtocolError\u001b[0m: peer closed connection without sending complete message body (incomplete chunked read)",
      "\nThe above exception was the direct cause of the following exception:\n",
      "\u001b[0;31mException\u001b[0m                                 Traceback (most recent call last)",
      "Cell \u001b[0;32mIn[9], line 1\u001b[0m\n\u001b[0;32m----> 1\u001b[0m \u001b[38;5;28;01mawait\u001b[39;00m main()\n",
      "Cell \u001b[0;32mIn[7], line 44\u001b[0m, in \u001b[0;36mmain\u001b[0;34m()\u001b[0m\n\u001b[1;32m     41\u001b[0m start_time \u001b[38;5;241m=\u001b[39m time\u001b[38;5;241m.\u001b[39mtime()\n\u001b[1;32m     43\u001b[0m \u001b[38;5;66;03m# Run the orchestrator attack asynchronously for the current objective\u001b[39;00m\n\u001b[0;32m---> 44\u001b[0m result \u001b[38;5;241m=\u001b[39m \u001b[38;5;28;01mawait\u001b[39;00m orchestrator\u001b[38;5;241m.\u001b[39mrun_attack_async(objective\u001b[38;5;241m=\u001b[39mobjective)\n\u001b[1;32m     46\u001b[0m \u001b[38;5;66;03m# Calculate execution time\u001b[39;00m\n\u001b[1;32m     47\u001b[0m execution_time \u001b[38;5;241m=\u001b[39m time\u001b[38;5;241m.\u001b[39mtime() \u001b[38;5;241m-\u001b[39m start_time\n",
      "File \u001b[0;32m~/Documents/Forks/PyRIT/pyrit/orchestrator/multi_turn/steijn/steijn_orchestrator.py:175\u001b[0m, in \u001b[0;36mSteijnOrchestrator.run_attack_async\u001b[0;34m(self, objective, memory_labels)\u001b[0m\n\u001b[1;32m    172\u001b[0m \u001b[38;5;28;01mif\u001b[39;00m \u001b[38;5;28mself\u001b[39m\u001b[38;5;241m.\u001b[39m_use_score_as_feedback \u001b[38;5;129;01mand\u001b[39;00m score:\n\u001b[1;32m    173\u001b[0m     feedback \u001b[38;5;241m=\u001b[39m score\u001b[38;5;241m.\u001b[39mscore_rationale\n\u001b[0;32m--> 175\u001b[0m response \u001b[38;5;241m=\u001b[39m \u001b[38;5;28;01mawait\u001b[39;00m \u001b[38;5;28mself\u001b[39m\u001b[38;5;241m.\u001b[39m_retrieve_and_send_prompt_async(\n\u001b[1;32m    176\u001b[0m     objective\u001b[38;5;241m=\u001b[39mobjective,\n\u001b[1;32m    177\u001b[0m     objective_target_conversation_id\u001b[38;5;241m=\u001b[39mobjective_target_conversation_id,\n\u001b[1;32m    178\u001b[0m     adversarial_chat_conversation_id\u001b[38;5;241m=\u001b[39madversarial_chat_conversation_id,\n\u001b[1;32m    179\u001b[0m     feedback\u001b[38;5;241m=\u001b[39mfeedback,\n\u001b[1;32m    180\u001b[0m     custom_prompt\u001b[38;5;241m=\u001b[39mcustom_prompt,\n\u001b[1;32m    181\u001b[0m     memory_labels\u001b[38;5;241m=\u001b[39mupdated_memory_labels,\n\u001b[1;32m    182\u001b[0m )\n\u001b[1;32m    183\u001b[0m \u001b[38;5;66;03m# Extract the thread ID from the response to send follow-up messages\u001b[39;00m\n\u001b[1;32m    184\u001b[0m \u001b[38;5;28;01mif\u001b[39;00m turn \u001b[38;5;241m==\u001b[39m \u001b[38;5;241m1\u001b[39m:\n",
      "File \u001b[0;32m~/Documents/Forks/PyRIT/pyrit/orchestrator/multi_turn/steijn/steijn_orchestrator.py:284\u001b[0m, in \u001b[0;36mSteijnOrchestrator._retrieve_and_send_prompt_async\u001b[0;34m(self, objective, objective_target_conversation_id, adversarial_chat_conversation_id, feedback, custom_prompt, memory_labels)\u001b[0m\n\u001b[1;32m    277\u001b[0m converter_configurations \u001b[38;5;241m=\u001b[39m PromptConverterConfiguration(converters\u001b[38;5;241m=\u001b[39m\u001b[38;5;28mself\u001b[39m\u001b[38;5;241m.\u001b[39m_prompt_converters)\n\u001b[1;32m    279\u001b[0m seed_prompt_group \u001b[38;5;241m=\u001b[39m SeedPromptGroup(\n\u001b[1;32m    280\u001b[0m     prompts\u001b[38;5;241m=\u001b[39m[SeedPrompt(value\u001b[38;5;241m=\u001b[39mprompt, data_type\u001b[38;5;241m=\u001b[39m\u001b[38;5;124m\"\u001b[39m\u001b[38;5;124mtext\u001b[39m\u001b[38;5;124m\"\u001b[39m)],\n\u001b[1;32m    281\u001b[0m )\n\u001b[1;32m    283\u001b[0m response_piece \u001b[38;5;241m=\u001b[39m (\n\u001b[0;32m--> 284\u001b[0m     \u001b[38;5;28;01mawait\u001b[39;00m \u001b[38;5;28mself\u001b[39m\u001b[38;5;241m.\u001b[39m_prompt_normalizer\u001b[38;5;241m.\u001b[39msend_prompt_async(\n\u001b[1;32m    285\u001b[0m         seed_prompt_group\u001b[38;5;241m=\u001b[39mseed_prompt_group,\n\u001b[1;32m    286\u001b[0m         conversation_id\u001b[38;5;241m=\u001b[39mobjective_target_conversation_id,\n\u001b[1;32m    287\u001b[0m         request_converter_configurations\u001b[38;5;241m=\u001b[39m[converter_configurations],\n\u001b[1;32m    288\u001b[0m         target\u001b[38;5;241m=\u001b[39m\u001b[38;5;28mself\u001b[39m\u001b[38;5;241m.\u001b[39m_objective_target,\n\u001b[1;32m    289\u001b[0m         labels\u001b[38;5;241m=\u001b[39mmemory_labels,\n\u001b[1;32m    290\u001b[0m         orchestrator_identifier\u001b[38;5;241m=\u001b[39m\u001b[38;5;28mself\u001b[39m\u001b[38;5;241m.\u001b[39mget_identifier(),\n\u001b[1;32m    291\u001b[0m     )\n\u001b[1;32m    292\u001b[0m )\u001b[38;5;241m.\u001b[39mrequest_pieces[\u001b[38;5;241m0\u001b[39m]\n\u001b[1;32m    294\u001b[0m \u001b[38;5;66;03m# ANSI escape codes for bright style and colors\u001b[39;00m\n\u001b[1;32m    295\u001b[0m BRIGHT \u001b[38;5;241m=\u001b[39m \u001b[38;5;124m\"\u001b[39m\u001b[38;5;130;01m\\033\u001b[39;00m\u001b[38;5;124m[1m\u001b[39m\u001b[38;5;124m\"\u001b[39m\n",
      "File \u001b[0;32m~/Documents/Forks/PyRIT/pyrit/prompt_normalizer/prompt_normalizer.py:129\u001b[0m, in \u001b[0;36mPromptNormalizer.send_prompt_async\u001b[0;34m(self, seed_prompt_group, target, conversation_id, request_converter_configurations, response_converter_configurations, sequence, labels, orchestrator_identifier)\u001b[0m\n\u001b[1;32m    127\u001b[0m             \u001b[38;5;28mself\u001b[39m\u001b[38;5;241m.\u001b[39m_memory\u001b[38;5;241m.\u001b[39madd_request_response_to_memory(request\u001b[38;5;241m=\u001b[39merror_response)\n\u001b[1;32m    128\u001b[0m             cid \u001b[38;5;241m=\u001b[39m request\u001b[38;5;241m.\u001b[39mrequest_pieces[\u001b[38;5;241m0\u001b[39m]\u001b[38;5;241m.\u001b[39mconversation_id \u001b[38;5;28;01mif\u001b[39;00m request \u001b[38;5;129;01mand\u001b[39;00m request\u001b[38;5;241m.\u001b[39mrequest_pieces \u001b[38;5;28;01melse\u001b[39;00m \u001b[38;5;28;01mNone\u001b[39;00m\n\u001b[0;32m--> 129\u001b[0m             \u001b[38;5;28;01mraise\u001b[39;00m \u001b[38;5;167;01mException\u001b[39;00m(\u001b[38;5;124mf\u001b[39m\u001b[38;5;124m\"\u001b[39m\u001b[38;5;124mError sending prompt with conversation ID: \u001b[39m\u001b[38;5;132;01m{\u001b[39;00mcid\u001b[38;5;132;01m}\u001b[39;00m\u001b[38;5;124m\"\u001b[39m) \u001b[38;5;28;01mfrom\u001b[39;00m\u001b[38;5;250m \u001b[39m\u001b[38;5;21;01mex\u001b[39;00m\n\u001b[1;32m    131\u001b[0m \u001b[38;5;28;01mif\u001b[39;00m response \u001b[38;5;129;01mis\u001b[39;00m \u001b[38;5;28;01mNone\u001b[39;00m:\n\u001b[1;32m    132\u001b[0m     \u001b[38;5;28;01mreturn\u001b[39;00m \u001b[38;5;28;01mNone\u001b[39;00m\n",
      "\u001b[0;31mException\u001b[0m: Error sending prompt with conversation ID: d10dd567-e757-4548-8a08-0a44793c2741"
     ]
    }
   ],
   "source": [
    "await main()\n"
   ]
  },
  {
   "cell_type": "code",
   "execution_count": null,
   "id": "c1ed1ba2-386b-4ad3-903b-d1a577faf567",
   "metadata": {},
   "outputs": [],
   "source": []
  }
 ],
 "metadata": {
  "kernelspec": {
   "display_name": "Python 3 (ipykernel)",
   "language": "python",
   "name": "python3"
  },
  "language_info": {
   "codemirror_mode": {
    "name": "ipython",
    "version": 3
   },
   "file_extension": ".py",
   "mimetype": "text/x-python",
   "name": "python",
   "nbconvert_exporter": "python",
   "pygments_lexer": "ipython3",
   "version": "3.11.11"
  }
 },
 "nbformat": 4,
 "nbformat_minor": 5
}
